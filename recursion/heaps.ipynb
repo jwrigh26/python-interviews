{
 "cells": [
  {
   "cell_type": "markdown",
   "metadata": {},
   "source": [
    "# Heaps\n",
    "\n",
    "**Heap: A Special Tree with Rules!** 🔺\n",
    "\n",
    "**Two Types of Heaps:**\n",
    "- **Max-Heap**: The parent node is **always greater** than its children. (The biggest number sits at the top.)\n",
    "- **Min-Heap**: The parent node is **always smaller** than its children. (The smallest number sits at the top.)\n",
    "  \n",
    "A heap is commonly implemented as a **binary tree**, but it’s stored in an **array** for efficient indexing.\n",
    "\n",
    "> Fun Fact: Heaps are sometimes referred to as a \"Priority Queue\".\n",
    "\n",
    "## Example of Max-Heap\n",
    "\n",
    "```\n",
    "        50\n",
    "      /    \\\n",
    "    30      20\n",
    "   /  \\    /  \\\n",
    "  15  10  8    5\n",
    "```\n",
    "\n",
    "Here:\n",
    "- 50 is the biggest and sits at the root.\n",
    "- Every parent is bigger than its children.\n",
    "\n",
    "## Concepts Explained\n",
    "\n",
    "### Uses of Heaps:\n",
    "- Fast for **inserting** and **removing** elements.\n",
    "- Used in algorithms like **Dijkstra's shortest path** and **Prim’s MST**.\n",
    "- **Priority Queues**: When you need to always get the \"most important\" (or smallest/largest) item first.\n",
    "- **Heap Sort**: A sorting algorithm based on heaps.\n",
    "\n",
    "### Key Takeaways\n",
    "A **heap** is a tree-based data structure that satisfies the **heap property**:\n",
    "  - **Min-Heap**: The parent node is always smaller than (or equal to) its child nodes.\n",
    "  - **Max-Heap**: The parent node is always greater than (or equal to) its child nodes.\n",
    "\n",
    "**Binary Heap**: Most commonly implemented as a **binary tree**, where each node has at most two children.\n",
    "\n",
    "**Efficient Operations**:\n",
    "   - Insert: O(log n)\n",
    "   - Remove Min/Max: O(log n)\n",
    "   - Peek Min/Max: O(1)\n",
    "\n",
    "**Array Representation**: Heaps are typically stored as arrays to optimize memory usage and indexing:\n",
    "   - Parent index: `(i - 1) // 2`\n",
    "   - Left child index: `2 * i + 1`\n",
    "   - Right child index: `2 * i + 2`\n",
    "\n",
    "   ---\n",
    "  "
   ]
  },
  {
   "cell_type": "markdown",
   "metadata": {},
   "source": [
    "## Python’s `heapq` Module\n",
    "Python’s `heapq` is a **min-heap** by default, meaning the smallest element is always at the root (index 0). If you need a max-heap, you can simulate it using negated values.\n",
    "\n",
    "### Common `heapq` Functions:\n",
    "1. **`heapify(iterable)`**:\n",
    "   - Turns a list into a valid heap in O(n) time.\n",
    "   - Example:\n",
    "     ```python\n",
    "     import heapq\n",
    "     nums = [3, 2, 1, 5, 6, 4]\n",
    "     heapq.heapify(nums)  # Converts to a min-heap\n",
    "     print(nums)  # Output: [1, 2, 3, 5, 6, 4]\n",
    "     ```\n",
    "\n",
    "2. **`heappush(heap, element)`**:\n",
    "   - Adds an element to the heap while maintaining the heap property.\n",
    "   - Example:\n",
    "     ```python\n",
    "     heapq.heappush(nums, 0)\n",
    "     print(nums)  # Output: [0, 2, 1, 5, 6, 4, 3]\n",
    "     ```\n",
    "\n",
    "3. **`heappop(heap)`**:\n",
    "   - Removes and returns the smallest element (root) from the heap.\n",
    "   - Example:\n",
    "     ```python\n",
    "     smallest = heapq.heappop(nums)\n",
    "     print(smallest)  # Output: 0\n",
    "     print(nums)  # Output: [1, 2, 3, 5, 6, 4]\n",
    "     ```\n",
    "\n",
    "4. **`heappushpop(heap, element)`**:\n",
    "   - Pushes a new element onto the heap, then pops and returns the smallest element in one step (more efficient than separate push and pop operations).\n",
    "   - Example:\n",
    "     ```python\n",
    "     result = heapq.heappushpop(nums, 8)\n",
    "     print(result)  # Output: 1 (smallest element popped)\n",
    "     print(nums)  # Output: [2, 5, 3, 8, 6, 4]\n",
    "     ```\n",
    "\n",
    "5. **`heapreplace(heap, element)`**:\n",
    "   - Pops and returns the smallest element, then pushes a new element onto the heap in one step.\n",
    "   - Example:\n",
    "     ```python\n",
    "     result = heapq.heapreplace(nums, 10)\n",
    "     print(result)  # Output: 2 (smallest element popped)\n",
    "     print(nums)  # Output: [3, 5, 4, 8, 6, 10]\n",
    "     ```\n",
    "\n",
    "6. **`nlargest(n, iterable)` and `nsmallest(n, iterable)`**:\n",
    "   - Fetches the `n` largest or smallest elements from the heap or any iterable.\n",
    "   - Example:\n",
    "     ```python\n",
    "     print(heapq.nlargest(3, nums))  # Output: [10, 8, 6]\n",
    "     print(heapq.nsmallest(3, nums))  # Output: [3, 4, 5]\n",
    "     ```\n",
    "\n",
    "---\n"
   ]
  },
  {
   "cell_type": "markdown",
   "metadata": {},
   "source": [
    "# Problems\n",
    "- [Finding the Kth Largest Element](#finding-the-kth-largest-element)\n",
    "- [Merge K Sorted Lists](#merge-k-sorted-lists)\n",
    "- [Top K Frequent Elements](#top-k-frequent-elements)\n",
    "- [Find Median from Data Stream](#find-median-from-data-stream)\n",
    "- [How to Simulate a Max-Heap](#how-to-simulate-a-max-heap)"
   ]
  },
  {
   "cell_type": "markdown",
   "metadata": {},
   "source": [
    "## Finding the Kth Largest Element\n",
    "\n",
    "### Problem:\n",
    "Find the **Kth largest element** in an array.\n",
    "\n",
    "### Approach:\n",
    "1. Use a **min-heap** of size `k`.\n",
    "   - The smallest element in the heap is the root (`heap[0]`).\n",
    "   - The heap always keeps the top `k` largest elements.\n",
    "2. Iterate through the array:\n",
    "   - If the current element is larger than the root of the heap, replace the root with this new element (maintaining size `k`).\n",
    "3. At the end, the root of the heap is the Kth largest element.\n",
    "\n",
    "### Explanation:\n",
    "1. Start with the first `k` elements: `[3, 2]`.\n",
    "   - Heapify: `[2, 3]`.\n",
    "2. Process the rest of the array:\n",
    "   - Element `1`: Ignore (smaller than root).\n",
    "   - Element `5`: Replace root (`2` → `5`): `[3, 5]`.\n",
    "   - Element `6`: Replace root (`3` → `6`): `[5, 6]`.\n",
    "   - Element `4`: Ignore (smaller than root).\n",
    "3. Final heap: `[5, 6]`. The root (`5`) is the 2nd largest element."
   ]
  },
  {
   "cell_type": "code",
   "execution_count": 6,
   "metadata": {},
   "outputs": [
    {
     "name": "stdout",
     "output_type": "stream",
     "text": [
      "5\n"
     ]
    }
   ],
   "source": [
    "import heapq\n",
    "\n",
    "def find_kth_largest(nums, k):\n",
    "    # Step 1: Create a min-heap with the first k elements\n",
    "    heap = nums[:k]\n",
    "    heapq.heapify(heap)  # Turn it into a heap (O(k))\n",
    "\n",
    "    # Step 2: Process the rest of the elements\n",
    "    for num in nums[k:]:\n",
    "        if num > heap[0]:  # Compare with the smallest in the heap\n",
    "            heapq.heappushpop(heap, num)  # Push num and pop the smallest (O(log k))\n",
    "\n",
    "    # Step 3: Return the smallest in the heap (the Kth largest overall)\n",
    "    return heap[0]\n",
    "\n",
    "# Example\n",
    "nums = [3, 2, 1, 5, 6, 4]\n",
    "k = 2\n",
    "print(find_kth_largest(nums, k))  # Output: 5"
   ]
  },
  {
   "cell_type": "markdown",
   "metadata": {},
   "source": [
    "\n",
    "## Merge K Sorted Lists\n",
    "\n",
    "### Problem:\n",
    "Merge `k` sorted linked lists into one sorted list.\n",
    "\n",
    "### Approach:\n",
    "1. Use a **min-heap** to track the smallest elements from all the lists.\n",
    "2. Insert the first element from each list into the heap.\n",
    "3. While the heap is not empty:\n",
    "   - Remove the smallest element from the heap.\n",
    "   - Add it to the merged list.\n",
    "   - If the removed element has a next node, add that next node to the heap.\n",
    "4. Continue until all elements are merged.\n",
    "\n",
    "### Explanation:\n",
    "- The heap ensures we always extract the smallest element efficiently.\n",
    "- We use a tuple `(value, list_index, node)` to track the value and its origin, ensuring elements are processed in sorted order."
   ]
  },
  {
   "cell_type": "code",
   "execution_count": 7,
   "metadata": {},
   "outputs": [
    {
     "name": "stdout",
     "output_type": "stream",
     "text": [
      "1 -> 1 -> 2 -> 3 -> 4 -> 4 -> 5 -> 6 -> None\n"
     ]
    }
   ],
   "source": [
    "import heapq\n",
    "\n",
    "class ListNode:\n",
    "    def __init__(self, val=0, next=None):\n",
    "        self.val = val\n",
    "        self.next = next\n",
    "\n",
    "    def __repr__(self):\n",
    "        return f\"{self.val} -> {self.next}\"\n",
    "\n",
    "def merge_k_sorted_lists(lists):\n",
    "    # Min-heap to store (value, list index, node)\n",
    "    heap = []\n",
    "    \n",
    "    # Step 1: Initialize the heap with the first element of each list\n",
    "    for i, node in enumerate(lists):\n",
    "        if node:  # Skip empty lists\n",
    "            heapq.heappush(heap, (node.val, i, node))\n",
    "\n",
    "    # Step 2: Merge lists\n",
    "    dummy = ListNode(0)\n",
    "    current = dummy\n",
    "\n",
    "    while heap:\n",
    "        val, i, node = heapq.heappop(heap)  # Get the smallest element\n",
    "        current.next = node  # Add it to the merged list\n",
    "        current = current.next\n",
    "        if node.next:  # Add the next element from the same list\n",
    "            heapq.heappush(heap, (node.next.val, i, node.next))\n",
    "\n",
    "    return dummy.next\n",
    "\n",
    "# Helper function to create linked lists from lists\n",
    "def create_linked_list(arr):\n",
    "    if not arr:\n",
    "        return None\n",
    "    head = ListNode(arr[0])\n",
    "    current = head\n",
    "    for val in arr[1:]:\n",
    "        current.next = ListNode(val)\n",
    "        current = current.next\n",
    "    return head\n",
    "\n",
    "# Create some lists\n",
    "list1 = create_linked_list([1, 4, 5])\n",
    "list2 = create_linked_list([1, 3, 4])\n",
    "list3 = create_linked_list([2, 6])\n",
    "\n",
    "lists = [list1, list2, list3]\n",
    "\n",
    "# Run merge_k_sorted_lists\n",
    "merged_list = merge_k_sorted_lists(lists)\n",
    "print(merged_list)\n"
   ]
  },
  {
   "cell_type": "markdown",
   "metadata": {},
   "source": [
    "\n",
    "## Top K Frequent Elements\n",
    "\n",
    "### Problem:\n",
    "Find the top `k` most frequent elements in an array.\n",
    "\n",
    "### Approach:\n",
    "1. Count the frequency of each element using a `Counter`.\n",
    "2. Use a **min-heap** of size `k` to store the most frequent elements.\n",
    "3. Iterate through the frequency map:\n",
    "   - Add each element to the heap.\n",
    "   - If the heap size exceeds `k`, remove the smallest frequency.\n",
    "\n",
    "### Explanation:\n",
    "- The heap keeps the top `k` elements based on frequency.\n",
    "- At the end, we extract the elements from the heap for the result."
   ]
  },
  {
   "cell_type": "code",
   "execution_count": 8,
   "metadata": {},
   "outputs": [
    {
     "name": "stdout",
     "output_type": "stream",
     "text": [
      "[2, 1]\n"
     ]
    }
   ],
   "source": [
    "\n",
    "from collections import Counter\n",
    "import heapq\n",
    "\n",
    "def top_k_frequent(nums, k):\n",
    "    # Step 1: Count frequencies\n",
    "    freq_map = Counter(nums)\n",
    "\n",
    "    # Step 2: Use a min-heap to store (frequency, element)\n",
    "    heap = []\n",
    "    for num, freq in freq_map.items():\n",
    "        heapq.heappush(heap, (freq, num))  # Push frequency first for comparison\n",
    "        if len(heap) > k:\n",
    "            heapq.heappop(heap)  # Remove the smallest frequency\n",
    "\n",
    "    # Step 3: Extract the elements from the heap\n",
    "    return [num for freq, num in heap]\n",
    "\n",
    "# Example\n",
    "nums = [1, 1, 1, 2, 2, 3]\n",
    "k = 2\n",
    "print(top_k_frequent(nums, k))  # Output: [1, 2]"
   ]
  },
  {
   "cell_type": "markdown",
   "metadata": {},
   "source": [
    "## Find Median from Data Stream\n",
    "\n",
    "### Problem:\n",
    "Continuously find the median as numbers are added to a data stream.\n",
    "\n",
    "### Approach:\n",
    "1. Use two heaps:\n",
    "   - A **max-heap** to store the smaller half of the numbers.\n",
    "   - A **min-heap** to store the larger half of the numbers.\n",
    "2. Balance the heaps such that:\n",
    "   - The max-heap has at most one extra element compared to the min-heap.\n",
    "3. The median is:\n",
    "   - The root of the max-heap (odd total elements).\n",
    "   - The average of the roots of both heaps (even total elements)."
   ]
  },
  {
   "cell_type": "code",
   "execution_count": 9,
   "metadata": {},
   "outputs": [
    {
     "name": "stdout",
     "output_type": "stream",
     "text": [
      "1.5\n",
      "2\n"
     ]
    }
   ],
   "source": [
    "\n",
    "import heapq\n",
    "\n",
    "class MedianFinder:\n",
    "    def __init__(self):\n",
    "        self.small = []  # Max-heap (inverted min-heap)\n",
    "        self.large = []  # Min-heap\n",
    "\n",
    "    def addNum(self, num):\n",
    "        heapq.heappush(self.small, -num)  # Add to max-heap\n",
    "        # Balance: Move the largest from small to large\n",
    "        heapq.heappush(self.large, -heapq.heappop(self.small))\n",
    "        \n",
    "        # Ensure small has more elements if odd total\n",
    "        if len(self.small) < len(self.large):\n",
    "            heapq.heappush(self.small, -heapq.heappop(self.large))\n",
    "\n",
    "    def findMedian(self):\n",
    "        if len(self.small) > len(self.large):  # Odd total\n",
    "            return -self.small[0]\n",
    "        return (-self.small[0] + self.large[0]) / 2  # Even total\n",
    "\n",
    "# Example\n",
    "finder = MedianFinder()\n",
    "finder.addNum(1)\n",
    "finder.addNum(2)\n",
    "print(finder.findMedian())  # Output: 1.5\n",
    "finder.addNum(3)\n",
    "print(finder.findMedian())  # Output: 2"
   ]
  },
  {
   "cell_type": "markdown",
   "metadata": {},
   "source": [
    "\n",
    "## How to Simulate a Max-Heap\n",
    "Python’s `heapq` only supports min-heaps, but you can simulate a max-heap by negating values."
   ]
  },
  {
   "cell_type": "code",
   "execution_count": 10,
   "metadata": {},
   "outputs": [
    {
     "name": "stdout",
     "output_type": "stream",
     "text": [
      "7\n",
      "[6, 5, 4, 3, 2, 1]\n"
     ]
    }
   ],
   "source": [
    "\n",
    "nums = [3, 2, 1, 5, 6, 4]\n",
    "max_heap = [-num for num in nums]  # Negate all values\n",
    "heapq.heapify(max_heap)\n",
    "\n",
    "# Push and pop operations\n",
    "heapq.heappush(max_heap, -7)\n",
    "largest = -heapq.heappop(max_heap)  # Remember to negate back\n",
    "\n",
    "print(largest)  # Output: 7\n",
    "print([-num for num in max_heap])  # Output: [6, 5, 4, 3, 2, 1]"
   ]
  },
  {
   "cell_type": "markdown",
   "metadata": {},
   "source": [
    "## Another Max-Heap"
   ]
  },
  {
   "cell_type": "code",
   "execution_count": 15,
   "metadata": {},
   "outputs": [
    {
     "name": "stdout",
     "output_type": "stream",
     "text": [
      "[-12, -9, -10, -8, -2, -5, -1, -3, 0, 4]\n",
      "-12\n"
     ]
    }
   ],
   "source": [
    "import heapq\n",
    "\n",
    "my_list = [-4, 3, 1, 0, 2, 5, 10, 8, 12, 9]\n",
    "n = len(my_list)\n",
    "\n",
    "for i in range(n):\n",
    "    my_list[i] = -my_list[i]\n",
    "\n",
    "heapq.heapify(my_list)\n",
    "print(my_list)\n",
    "\n",
    "# Bonus Peak:\n",
    "print(my_list[0])\n"
   ]
  },
  {
   "cell_type": "markdown",
   "metadata": {},
   "source": [
    "## Heap Sort"
   ]
  },
  {
   "cell_type": "code",
   "execution_count": 11,
   "metadata": {},
   "outputs": [
    {
     "data": {
      "text/plain": [
       "[0, 1, 2, 3, 4, 5, 6, 7, 8, 9]"
      ]
     },
     "execution_count": 11,
     "metadata": {},
     "output_type": "execute_result"
    }
   ],
   "source": [
    "# Heap Sort\n",
    "# Time: O(n log n), Space: O(n)\n",
    "# Note: O(1) Space is possible via swapping, but this is complex!\n",
    "\n",
    "import heapq\n",
    "\n",
    "def heap_sort(arr):\n",
    "    heapq.heapify(arr)\n",
    "    n = len(arr)\n",
    "    new_list = [0] * n\n",
    "\n",
    "    for i in range(n):\n",
    "        min = heapq.heappop(arr)\n",
    "        new_list[i] = min\n",
    "    \n",
    "    return new_list\n",
    "\n",
    "heap_sort([1, 3, 5, 7, 9, 2, 4, 6, 8, 0])"
   ]
  },
  {
   "cell_type": "markdown",
   "metadata": {},
   "source": [
    "# Build a Heap From Scratch ( Sort of )\n"
   ]
  },
  {
   "cell_type": "code",
   "execution_count": 16,
   "metadata": {},
   "outputs": [
    {
     "name": "stdout",
     "output_type": "stream",
     "text": [
      "[-5]\n",
      "[-5, 4]\n",
      "[-5, 4, 2]\n",
      "[-5, 1, 2, 4]\n",
      "[-5, 1, 2, 4, 7]\n",
      "[-5, 1, 0, 4, 7, 2]\n",
      "[-5, 1, 0, 4, 7, 2, 3]\n"
     ]
    }
   ],
   "source": [
    "import heapq\n",
    "\n",
    "# Time: O(n log n)\n",
    "\n",
    "my_list = [-5, 4, 2, 1, 7, 0, 3]\n",
    "my_heap = [  ]\n",
    "\n",
    "for x in my_list:\n",
    "    heapq.heappush(my_heap, x)\n",
    "    print (my_heap)"
   ]
  },
  {
   "cell_type": "markdown",
   "metadata": {},
   "source": [
    "# Tuples"
   ]
  },
  {
   "cell_type": "code",
   "execution_count": 17,
   "metadata": {},
   "outputs": [
    {
     "name": "stdout",
     "output_type": "stream",
     "text": [
      "[(5, 4)]\n",
      "[(4, 3), (5, 4)]\n",
      "[(3, 2), (5, 4), (4, 3)]\n"
     ]
    }
   ],
   "source": [
    "import heapq\n",
    "from collections import Counter\n",
    "\n",
    "my_list = [5, 4, 3, 5, 4, 3, 5, 5, 4]\n",
    "my_heap = []\n",
    "\n",
    "# Count the frequency or number of occurences for each value. e.g., 5's frequency is 4\n",
    "counter = Counter(my_list)\n",
    "\n",
    "for k, v, in counter.items():\n",
    "    # put smallest tuple on top (k, v)\n",
    "    heapq.heappush(my_heap, (k, v))\n",
    "    print(my_heap)"
   ]
  }
 ],
 "metadata": {
  "kernelspec": {
   "display_name": "venv",
   "language": "python",
   "name": "python3"
  },
  "language_info": {
   "codemirror_mode": {
    "name": "ipython",
    "version": 3
   },
   "file_extension": ".py",
   "mimetype": "text/x-python",
   "name": "python",
   "nbconvert_exporter": "python",
   "pygments_lexer": "ipython3",
   "version": "3.9.6"
  }
 },
 "nbformat": 4,
 "nbformat_minor": 2
}
