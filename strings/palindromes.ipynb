{
 "cells": [
  {
   "cell_type": "markdown",
   "metadata": {},
   "source": [
    "# Palidromes\n",
    "A word, phrase, or sequence that reads the same backward as forward\n",
    "\n",
    "## Tacocat\n",
    "A Fun Example of a palindrome by the creator of The Oatmeal\n",
    "\n",
    "Sure, words like racecar or madam also count, but they are not as fun to say as Tacocat.\n",
    "Palindromes are a popular subject in algorithmic learning because they can be used in a variety of fundamental programming concepts like string manipulation, recursion, and the two-pointer technique.\n",
    "\n",
    "### Types of Palindrome Problems\n",
    "- Valid Palindrome\n",
    "- Palindrome Number\n",
    "- Shortest Palindrome\n",
    "- Palindromic Substrings\n",
    "- Longest Palindromic Substring\n",
    "- Palindrome Partitioning"
   ]
  },
  {
   "cell_type": "markdown",
   "metadata": {
    "vscode": {
     "languageId": "plaintext"
    }
   },
   "source": [
    "# Recursive Approach\n",
    "- Pros: elegant, intutitive for small strings\n",
    "- Cons: potential stack overflow for large strings"
   ]
  },
  {
   "cell_type": "code",
   "execution_count": 1,
   "metadata": {},
   "outputs": [],
   "source": [
    "def is_palindrome(s, left=0, right=None):\n",
    "\n",
    "    # Check if input is a string\n",
    "    if not isinstance(s, str):\n",
    "        raise TypeError('Input must be a string')\n",
    "\n",
    "    # If right is not provided, set it to the last index \n",
    "    if right is None:\n",
    "        right = len(s) - 1\n",
    "\n",
    "    # Base case\n",
    "    # If pointers have crossed, string is a palindrome\n",
    "    if left >= right:\n",
    "        return True\n",
    "\n",
    "    # Base case\n",
    "    # If characters at the pointers are not equal, string is not a palindrome\n",
    "    if s[left] != s[right]:\n",
    "        return False\n",
    "\n",
    "    return is_palindrome(s, left + 1, right - 1)\n"
   ]
  },
  {
   "cell_type": "markdown",
   "metadata": {},
   "source": [
    "# Iterative Approach\n",
    "- Pros: efficient, no extra memory\n",
    "- Cons: less intuitive, more code "
   ]
  },
  {
   "cell_type": "code",
   "execution_count": 2,
   "metadata": {},
   "outputs": [],
   "source": [
    "def is_palindrome_iterative(s):\n",
    "    if not isinstance(s, str):\n",
    "        raise TypeError('Input must be a string')\n",
    "\n",
    "    left, right = 0, len(s) - 1\n",
    "\n",
    "    while left < right:\n",
    "        if s[left] != s[right]:\n",
    "            return False\n",
    "        left += 1\n",
    "        right -= 1\n",
    "\n",
    "    return True"
   ]
  },
  {
   "cell_type": "markdown",
   "metadata": {},
   "source": [
    "# Partitioning\n",
    "Given a string s partition s such that evey substring of the parition is a palindrome. Return all possible palindromes of s.\n",
    "\n",
    "```\n",
    "# Example 1:\n",
    "# Input: s = \"aab\"\n",
    "# Output: [[\"a\", \"a\", \"b\"], [\"aa\", \"b\"]]\n",
    "\n",
    "#Example 2:\n",
    "# Input: s = \"a\"\n",
    "# Output: s = [[\"a\"]]\n",
    "```"
   ]
  },
  {
   "cell_type": "code",
   "execution_count": 3,
   "metadata": {},
   "outputs": [],
   "source": [
    "# isPalindrome\n",
    "\n",
    "def isPalindrome(s, l, r):\n",
    "  while l < r:\n",
    "    if s[l] != s[r]:\n",
    "      return False\n",
    "    l, r = l + 1, r - 1\n",
    "  return True # Moved return True outside the while loop"
   ]
  },
  {
   "cell_type": "code",
   "execution_count": 5,
   "metadata": {},
   "outputs": [],
   "source": [
    "# Solution\n",
    "from typing import List  # Import List from typing module\n",
    "\n",
    "class Solution:\n",
    "  def partition(self, s: str) -> List[List[str]]:\n",
    "    res = []\n",
    "    part = []\n",
    "\n",
    "    # Depth-Fist Search\n",
    "    def dfs(i):\n",
    "      if i >= len(s):\n",
    "        res.append(part.copy())\n",
    "        return\n",
    "      for j in range(i, len(s)):\n",
    "        if isPalindrome(s, i, j):\n",
    "          part.append(s[i:j+1])\n",
    "          dfs(j+1)\n",
    "          part.pop()\n",
    "    dfs(0)\n",
    "    return res"
   ]
  },
  {
   "cell_type": "code",
   "execution_count": 7,
   "metadata": {},
   "outputs": [
    {
     "name": "stdout",
     "output_type": "stream",
     "text": [
      "[['a', 'a', 'b'], ['aa', 'b']]\n"
     ]
    }
   ],
   "source": [
    "# Test\n",
    "s = \"aab\"\n",
    "sol = Solution().partition(s)\n",
    "print(sol)"
   ]
  }
 ],
 "metadata": {
  "kernelspec": {
   "display_name": "venv",
   "language": "python",
   "name": "python3"
  },
  "language_info": {
   "codemirror_mode": {
    "name": "ipython",
    "version": 3
   },
   "file_extension": ".py",
   "mimetype": "text/x-python",
   "name": "python",
   "nbconvert_exporter": "python",
   "pygments_lexer": "ipython3",
   "version": "3.9.6"
  }
 },
 "nbformat": 4,
 "nbformat_minor": 2
}
