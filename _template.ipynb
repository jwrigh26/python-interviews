{
 "cells": [
  {
   "cell_type": "markdown",
   "metadata": {},
   "source": [
    "# Title\n",
    "\n",
    "blah blah\n",
    "\n",
    "## Example of a Foo\n",
    "```\n",
    "    1\n",
    "   / \\\n",
    "  2   3\n",
    "```\n",
    "- `1` is the **foo**. \n",
    "- `2` and `3` are its children: `foo.left` and `foo.right`.\n",
    "\n",
    "# Example usage:\n",
    "Blah blah\n",
    "\n",
    "## Concepts Explained\n",
    "\n",
    "### Foo\n",
    "blah blah blah\n",
    "\n",
    "### Key Parts\n",
    "- **Blah**: The blah\n",
    "\n",
    "### Other Things\n",
    "Some other important stuff.\n",
    "  "
   ]
  },
  {
   "cell_type": "markdown",
   "metadata": {},
   "source": [
    "# Problems\n",
    "- [Foo of a Herp Derp](#foo-of-a-herp-derp)  "
   ]
  }
 ],
 "metadata": {
  "language_info": {
   "name": "python"
  }
 },
 "nbformat": 4,
 "nbformat_minor": 2
}
