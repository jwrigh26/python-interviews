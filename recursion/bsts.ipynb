{
 "cells": [
  {
   "cell_type": "markdown",
   "metadata": {},
   "source": [
    "# Binary Search Trees (BSTs)\n",
    "\n",
    "**What's a Binary Search Tree (BST):** 🕵️‍♂️\n",
    "A BST is a [binary tree](./trees.ipynb#binary-trees) with **rules**:\n",
    "- **Left child < Parent**\n",
    "- **Right child > Parent**\n",
    "\n",
    "This makes it super easy to search for stuff! Imagine organizing books on a shelf by their titles:\n",
    "\n",
    "1. Go left if the title comes earlier alphabetically.\n",
    "2. Go right if it comes later.\n",
    "\n",
    "## BST Rules\n",
    "\n",
    "A **Binary Search Tree (BST)** is a binary tree where each node follows these rules:\n",
    "\n",
    "1. **Left Subtree:**: All values are smaller than the node's value.\n",
    "2. **Right Subtree:** All values are greater than the node's value.\n",
    "3. **No Duplicates:** No two nodes have the same value.\n",
    "\n",
    "A BST is an efficient structure for **search, insertion, and deletion**, making it a favorite topic in interviews.\n",
    "\n",
    "## BST Basic Operations\n",
    "\n",
    "1. **Insert a Node**\n",
    "2. **Search for a Value**\n",
    "3. **Delete a Node**\n",
    "4. **Find the Min and Max**\n",
    "5. **Validate a BST**\n"
   ]
  },
  {
   "cell_type": "markdown",
   "metadata": {},
   "source": [
    "# TreeNode\n",
    "```\n",
    "        A(5)\n",
    "       /   \\\n",
    "    B(3)   C(8)\n",
    "   /   \\   /   \\\n",
    "D(1) E(4) F(7) G(9)\n",
    "```"
   ]
  },
  {
   "cell_type": "code",
   "execution_count": 26,
   "metadata": {},
   "outputs": [],
   "source": [
    "# Binary Search Trees (BSTs)\n",
    "# Definition for a binary tree node.\n",
    "# class TreeNode:\n",
    "#       def __init__(self, val=0, left=None, right=None):\n",
    "#           self.val = val\n",
    "#           self.left = left\n",
    "#           self.right = right\n",
    "\n",
    "class TreeNode:\n",
    "    def __init__(self, val, left=None, right=None):\n",
    "        self.val = val\n",
    "        self.left = left\n",
    "        self.right = right\n",
    "\n",
    "    def __str__(self):\n",
    "        return str(self.val)\n",
    "\n",
    "# Creating a BST\n",
    "A = TreeNode(5)\n",
    "B = TreeNode(3)\n",
    "C = TreeNode(8)\n",
    "D = TreeNode(1)\n",
    "E = TreeNode(4)\n",
    "F = TreeNode(7)\n",
    "G = TreeNode(9)\n",
    "\n",
    "A.left, A.right = B, C\n",
    "B.left, B.right = D, E\n",
    "C.left, C.right = F, G"
   ]
  },
  {
   "cell_type": "code",
   "execution_count": 27,
   "metadata": {},
   "outputs": [
    {
     "name": "stdout",
     "output_type": "stream",
     "text": [
      "1\n",
      "3\n",
      "4\n",
      "5\n",
      "7\n",
      "8\n",
      "9\n"
     ]
    }
   ],
   "source": [
    "# Will print a TreeNode in in-order fashion\n",
    "# [-1, 3, 1, 5, 7, 8, 9]\n",
    "def print_bst(node: TreeNode):\n",
    "    if not node:\n",
    "        return\n",
    "    print_bst(node.left)\n",
    "    print(node.val)\n",
    "    print_bst(node.right)\n",
    "\n",
    "print_bst(A)"
   ]
  },
  {
   "cell_type": "markdown",
   "metadata": {},
   "source": [
    "# Problems\n",
    "- [Insert a Node](#insert-a-node)\n",
    "- [Search for a Value](#search-for-a-value)\n",
    "- [Delete a Node](#delete-a-node)\n",
    "- [Find the Min and Max](#find-the-min-and-max)\n",
    "- [Validate a BST](#validate-a-bst)"
   ]
  },
  {
   "cell_type": "markdown",
   "metadata": {},
   "source": [
    "# Insert a Node\n",
    "\n",
    "**Algorithm:**\n",
    "\n",
    "- Recursively traverse the tree.\n",
    "- Insert the node in the correct position following BST rules\n",
    "\n",
    "Our goal is th take a list like the following:\n",
    "\n",
    "`nums = [8, 3, 10, 1, 6, 4, 7, 14, 13]`\n",
    "\n",
    "And have the output insert each value so our tree now looks like this:\n",
    "\n",
    "```\n",
    "        8\n",
    "      /   \\\n",
    "     3    10\n",
    "    / \\      \\\n",
    "   1   6     14\n",
    "      / \\    /\n",
    "     4   7  13\n",
    "```\n",
    "\n",
    "**Notice:**\n",
    "\n",
    "Our root is 8. \n",
    "All values on the left are smaller, and all values on the right are larger."
   ]
  },
  {
   "cell_type": "code",
   "execution_count": 28,
   "metadata": {},
   "outputs": [
    {
     "name": "stdout",
     "output_type": "stream",
     "text": [
      "1\n",
      "3\n",
      "4\n",
      "6\n",
      "7\n",
      "8\n",
      "10\n",
      "13\n",
      "14\n"
     ]
    }
   ],
   "source": [
    "from typing import List, Optional\n",
    "\n",
    "# Insert a Node\n",
    "# The tree structure should resemble the following:\n",
    "#         8\n",
    "#       /   \\\n",
    "#      3    10\n",
    "#     / \\      \\\n",
    "#    1   6     14\n",
    "#       / \\    /\n",
    "#      4   7  13\n",
    "\n",
    "class Solution:\n",
    "    def insert(self, node: TreeNode, value: int) -> TreeNode:\n",
    "        if node is None:\n",
    "            return TreeNode(value)\n",
    "\n",
    "        if value < node.val:\n",
    "            node.left = self.insert(node.left, value)\n",
    "        elif value > node.val:\n",
    "            node.right = self.insert(node.right, value)\n",
    "        \n",
    "        return node\n",
    "    \n",
    "nums = [8,3,10,1,6,4,7,14,13]\n",
    "sol = Solution()\n",
    "tree: Optional[TreeNode] = None # init tree as None\n",
    "\n",
    "for n in nums:\n",
    "    tree = sol.insert(tree, n) # update the tree reference with each inseration\n",
    "\n",
    "# Test\n",
    "# Should output [1,3,4,6,7,8,10,13,14]\n",
    "print_bst(tree)\n"
   ]
  },
  {
   "cell_type": "code",
   "execution_count": 29,
   "metadata": {},
   "outputs": [],
   "source": [
    "# Itterative solution\n",
    "from typing import Optional\n",
    "\n",
    "class Solution:\n",
    "    def insert_iterative(self, root: Optional[TreeNode], val: int) -> Optional[TreeNode]:\n",
    "        if root is None:\n",
    "            # If the tree is empty, create a new root node\n",
    "            return TreeNode(val)\n",
    "        \n",
    "        cur = root\n",
    "        while True:\n",
    "            if val > cur.val:\n",
    "                # Move to the right child\n",
    "                if not cur.right:\n",
    "                    # Insert new node if right child is None\n",
    "                    cur.right = TreeNode(val)\n",
    "                    return root\n",
    "                cur = cur.right\n",
    "            else:\n",
    "                # Move to the left child\n",
    "                if not cur.left:\n",
    "                    # Insert new node if left child is None\n",
    "                    cur.left = TreeNode(val)\n",
    "                    return root\n",
    "                cur = cur.left\n",
    "        return root\n"
   ]
  },
  {
   "cell_type": "markdown",
   "metadata": {},
   "source": [
    "# Search for a Value"
   ]
  },
  {
   "cell_type": "code",
   "execution_count": 30,
   "metadata": {},
   "outputs": [
    {
     "data": {
      "text/plain": [
       "True"
      ]
     },
     "execution_count": 30,
     "metadata": {},
     "output_type": "execute_result"
    }
   ],
   "source": [
    "# Search Time: O(log n), Space: O(log, n)\n",
    "\n",
    "def search_bst(node, target):\n",
    "    if node is None:\n",
    "        return False\n",
    "\n",
    "    if node.val == target:\n",
    "        return True\n",
    "    \n",
    "    if target < node.val:\n",
    "        return search_bst(node.left, target)\n",
    "    else: \n",
    "        return search_bst(node.right, target)\n",
    "# Test\n",
    "# Expected Result: True \n",
    "search_bst(A, 8)"
   ]
  },
  {
   "cell_type": "markdown",
   "metadata": {},
   "source": [
    "# Delete a Node"
   ]
  },
  {
   "cell_type": "code",
   "execution_count": 31,
   "metadata": {},
   "outputs": [
    {
     "name": "stdout",
     "output_type": "stream",
     "text": [
      "1\n",
      "4\n",
      "6\n",
      "7\n",
      "8\n",
      "10\n",
      "13\n",
      "14\n"
     ]
    }
   ],
   "source": [
    "# Delete a Node\n",
    "# Time: O(log n) or O(h) if unbalanced\n",
    "# Space: O(log n) or O(h) if unbalanced\n",
    "\n",
    "class Solution:\n",
    "    def delete_node(self, root: Optional[TreeNode], key: int) -> Optional[TreeNode]:\n",
    "        if root is None:\n",
    "            return root\n",
    "        \n",
    "        if key > root.val:\n",
    "            root.right = self.delete_node(root.right, key)\n",
    "        elif key < root.val:\n",
    "            root.left = self.delete_node(root.left, key)\n",
    "        else:\n",
    "            if root.left is None:\n",
    "                return root.right\n",
    "            elif root.right is None:\n",
    "                return root.left\n",
    "\n",
    "            # Find the min from right subtree\n",
    "            cur = root.right\n",
    "            while cur.left:\n",
    "                cur = cur.left\n",
    "            root.val = cur.val\n",
    "            root.right = self.delete_node(root.right, root.val)\n",
    "\n",
    "        return root\n",
    "\n",
    "# Test\n",
    "# Example: Delete node with value 3\n",
    "sol = Solution()\n",
    "tree = sol.delete_node(tree, 3)\n",
    "print_bst(tree)  # Should print the BST without the node containing value 3"
   ]
  },
  {
   "cell_type": "markdown",
   "metadata": {},
   "source": [
    "\n",
    "# Find the Min and Max\n",
    "\n",
    "In a **Binary Search Tree (BST)**:\n",
    "- **The minimum value is always in the leftmost node**.\n",
    "- **The maximum value is always in the rightmost node**.\n",
    "\n",
    "This means to find the min/max, **we just keep going left/right until we can't anymore.**\n",
    "\n",
    "## How It Works\n",
    "\n",
    "### Finding the Minimum:\n",
    "- Start at the root.\n",
    "- Keep moving **left** until you hit a node with no left child.\n",
    "- That node is the minimum.\n",
    "\n",
    "### Finding the Maximum:\n",
    "- Start at the root.\n",
    "- Keep moving **right** until you hit a node with no right child.\n",
    "- That node is the maximum.\n",
    "\n",
    "This works because:\n",
    "- The leftmost node is the **smallest** by definition.\n",
    "- The rightmost node is the **largest** by definition.\n",
    "\n",
    "## Example BST:\n",
    "\n",
    "```\n",
    "         50\n",
    "        /  \\\n",
    "      30    70\n",
    "     / \\    / \\\n",
    "   20  40  60  80\n",
    "```\n",
    "\n",
    "- **Minimum Value?** `20` (leftmost node)\n",
    "- **Maximum Value?** `80` (rightmost node)\n",
    "\n",
    "##  Time and Space Complexity\n",
    "\n",
    "### Time Complexity: **O(h)**\n",
    "- `h` is the height of the tree.\n",
    "- In a balanced BST, `h = log(n)`, so in the **best case**, it's **O(log n)**.\n",
    "- In a **worst-case (unbalanced tree)**, `h = n`, so it's **O(n)**.\n",
    "\n",
    "### Space Complexity: **O(1)**\n",
    "- We’re only using a pointer, so space is **constant**.\n",
    "\n",
    "\n",
    "## Edge Cases:\n",
    "1. **Empty Tree**: If the tree is empty (`root == None`), return `None`.\n",
    "2. **Single Node**: If there's only one node, it's both the min and max.\n",
    "3. **Skewed Trees**: \n",
    "   - If all nodes are on the left (`left-skewed`), the max is the root.\n",
    "   - If all nodes are on the right (`right-skewed`), the min is the root.\n",
    "\n",
    "## Key Takeaways:\n",
    "- **Min = leftmost node**; **Max = rightmost node**.\n",
    "- **Time Complexity: O(h), Space Complexity: O(1)**.\n",
    "- **Iterative vs Recursive Approach**: Iterative is simpler and avoids extra stack memory."
   ]
  },
  {
   "cell_type": "code",
   "execution_count": 32,
   "metadata": {},
   "outputs": [
    {
     "name": "stdout",
     "output_type": "stream",
     "text": [
      "Minimum value in BST: 20\n",
      "Maximum value in BST: 80\n"
     ]
    }
   ],
   "source": [
    "# Find the Min and Max\n",
    "\n",
    "class TreeNode:\n",
    "    def __init__(self, value):\n",
    "        self.value = value\n",
    "        self.left = None\n",
    "        self.right = None\n",
    "\n",
    "def find_min(node):\n",
    "    \"\"\"Finds the minimum value in a BST.\"\"\"\n",
    "    if not node:\n",
    "        return None  # Edge case: empty tree\n",
    "    while node.left:\n",
    "        node = node.left  # Keep moving left\n",
    "    return node.value\n",
    "\n",
    "def find_max(node):\n",
    "    \"\"\"Finds the maximum value in a BST.\"\"\"\n",
    "    if not node:\n",
    "        return None  # Edge case: empty tree\n",
    "    while node.right:\n",
    "        node = node.right  # Keep moving right\n",
    "    return node.value\n",
    "\n",
    "# Build example tree\n",
    "root = TreeNode(50)\n",
    "root.left = TreeNode(30)\n",
    "root.right = TreeNode(70)\n",
    "root.left.left = TreeNode(20)\n",
    "root.left.right = TreeNode(40)\n",
    "root.right.left = TreeNode(60)\n",
    "root.right.right = TreeNode(80)\n",
    "\n",
    "# Run min/max functions\n",
    "print(\"Minimum value in BST:\", find_min(root))  # Output: 20\n",
    "print(\"Maximum value in BST:\", find_max(root))  # Output: 80"
   ]
  },
  {
   "cell_type": "code",
   "execution_count": 33,
   "metadata": {},
   "outputs": [],
   "source": [
    "# Recursive solution\n",
    "\n",
    "def find_min_recursive(node):\n",
    "    if not node:\n",
    "        return None\n",
    "    if not node.left:\n",
    "        return node.value\n",
    "    return find_min_recursive(node.left)\n",
    "\n",
    "def find_max_recursive(node):\n",
    "    if not node:\n",
    "        return None\n",
    "    if not node.right:\n",
    "        return node.value\n",
    "    return find_max_recursive(node.right)"
   ]
  },
  {
   "cell_type": "markdown",
   "metadata": {},
   "source": [
    "# Validate a BST"
   ]
  },
  {
   "cell_type": "code",
   "execution_count": 34,
   "metadata": {},
   "outputs": [],
   "source": [
    "# 5. Validate a BST"
   ]
  }
 ],
 "metadata": {
  "kernelspec": {
   "display_name": "venv",
   "language": "python",
   "name": "python3"
  },
  "language_info": {
   "codemirror_mode": {
    "name": "ipython",
    "version": 3
   },
   "file_extension": ".py",
   "mimetype": "text/x-python",
   "name": "python",
   "nbconvert_exporter": "python",
   "pygments_lexer": "ipython3",
   "version": "3.9.6"
  }
 },
 "nbformat": 4,
 "nbformat_minor": 2
}
