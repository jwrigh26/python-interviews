{
 "cells": [
  {
   "cell_type": "markdown",
   "id": "6d0e091c",
   "metadata": {},
   "source": [
    "# Trees\n",
    "\n",
    "An Introduction to Tree Data Structures"
   ]
  },
  {
   "cell_type": "markdown",
   "id": "0f504688",
   "metadata": {},
   "source": [
    "Trees are hierarchical data structures widely used in computer science. They are characterized by nodes connected by edges, with a root node at the top. Trees have diverse applications, including representing hierarchical relationships, evaluating expressions, and implementing search algorithms like Binary Search Trees (BSTs)."
   ]
  },
  {
   "cell_type": "markdown",
   "id": "45e0a3c7",
   "metadata": {},
   "source": [
    "## Highlights\n",
    "- Trees start with a root node.\n",
    "- Each node can have zero or more children, with no cycles in the structure.\n",
    "- Common types: Binary Tree, Binary Search Tree (BST), AVL Tree, and Red-Black Tree.\n",
    "- Traversal techniques: Depth-First Search (DFS) and Breadth-First Search (BFS)."
   ]
  },
  {
   "cell_type": "markdown",
   "id": "a795af99",
   "metadata": {},
   "source": [
    "## Content\n",
    "### Binary Trees\n",
    "A Binary Tree is a tree where each node has at most two children. These children are referred to as the left and right child. Binary Trees form the basis for specialized trees like Binary Search Trees (BSTs), AVL Trees, and Red-Black Trees."
   ]
  },
  {
   "cell_type": "markdown",
   "id": "237c52f8",
   "metadata": {},
   "source": [
    "### Depth-First Search (DFS)\n",
    "DFS explores as far as possible along each branch before backtracking. It can be implemented recursively or iteratively (using a stack)."
   ]
  },
  {
   "cell_type": "markdown",
   "id": "edd32c21",
   "metadata": {},
   "source": [
    "#### Pseudo Code for DFS\n",
    "```\n",
    "function DFS(node):\n",
    "    if node is None:\n",
    "        return\n",
    "    process(node)\n",
    "    DFS(node.left)\n",
    "    DFS(node.right)\n",
    "```\n"
   ]
  },
  {
   "cell_type": "markdown",
   "id": "b09c1d4f",
   "metadata": {},
   "source": [
    "## Problems\n",
    "### Problem 1\n",
    "Implement an iterative pre-order traversal."
   ]
  },
  {
   "cell_type": "code",
   "execution_count": null,
   "id": "540ffc9c",
   "metadata": {},
   "outputs": [],
   "source": [
    "from typing import List\n",
    "\n",
    "class TreeNode:\n",
    "    def __init__(self, value):\n",
    "        self.value = value\n",
    "        self.left = None\n",
    "        self.right = None\n",
    "\n",
    "def iterative_preorder(root: TreeNode) -> List[int]:\n",
    "    if not root:\n",
    "        return []\n",
    "\n",
    "    stack, result = [root], []\n",
    "    while stack:\n",
    "        node = stack.pop()\n",
    "        result.append(node.value)\n",
    "        if node.right:\n",
    "            stack.append(node.right)\n",
    "        if node.left:\n",
    "            stack.append(node.left)\n",
    "\n",
    "    return result\n"
   ]
  },
  {
   "cell_type": "markdown",
   "id": "11b62535",
   "metadata": {},
   "source": [
    "### Walkthrough\n",
    "1. Initialize a stack with the root node.\n",
    "2. While the stack is not empty, pop the top node.\n",
    "3. Process the node (add its value to the result list).\n",
    "4. Push the node's right child, then left child, to the stack (if they exist).\n",
    "5. Repeat until the stack is empty."
   ]
  },
  {
   "cell_type": "markdown",
   "id": "1a388b5d",
   "metadata": {},
   "source": [
    "### Summary\n",
    "Trees are a versatile data structure with various types and operations. We explored the binary tree, a common variant, and studied Depth-First Search (DFS) as a fundamental traversal method. Time and space complexity for DFS:\n",
    "- **Time Complexity**: O(n) (visiting each node once).\n",
    "- **Space Complexity**: O(h) (where h is the height of the tree)."
   ]
  }
 ],
 "metadata": {
  "kernelspec": {
   "display_name": "venv",
   "language": "python",
   "name": "python3"
  },
  "language_info": {
   "codemirror_mode": {
    "name": "ipython",
    "version": 3
   },
   "file_extension": ".py",
   "mimetype": "text/x-python",
   "name": "python",
   "nbconvert_exporter": "python",
   "pygments_lexer": "ipython3",
   "version": "3.10.12"
  }
 },
 "nbformat": 4,
 "nbformat_minor": 2
}
