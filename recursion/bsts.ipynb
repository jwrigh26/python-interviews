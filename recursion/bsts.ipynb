{
 "cells": [
  {
   "cell_type": "markdown",
   "metadata": {},
   "source": [
    "# Binary Search Trees (BSTs)\n",
    "\n",
    "## BST Rules\n",
    "\n",
    "A **Binary Search Tree (BST)** is a binary tree where each node follows these rules:\n",
    "\n",
    "1. **Left Subtree:**: All values are smaller than the node's value.\n",
    "2. **Right Subtree:** All values are greater than the node's value.\n",
    "3. **No Duplicates:** No two nodes have the same value.\n",
    "\n",
    "A BST is an efficient structure for **search, insertion, and deletion**, making it a favorite topic in interviews.\n",
    "\n",
    "## BST Basic Operations\n",
    "\n",
    "1. **Insert a Node**\n",
    "2. **Search for a Value**\n",
    "3. **Delete a Node**\n",
    "4. **Find the Min and Max**\n",
    "5. **Validate a BST**\n",
    "\n",
    "---"
   ]
  },
  {
   "cell_type": "code",
   "execution_count": 1,
   "metadata": {},
   "outputs": [
    {
     "name": "stdout",
     "output_type": "stream",
     "text": [
      "1\n"
     ]
    }
   ],
   "source": [
    "# Setup: Define a TreeNode Class\n",
    "\n",
    "class TreeNode:\n",
    "    def __init__(self, value):\n",
    "        self.value = value\n",
    "        self.left = None\n",
    "        self.right = None\n",
    "    \n",
    "    # Not necessary but fun cause we can just print the node\n",
    "    def __repr__(self):\n",
    "        return f\"{self.value}\"\n",
    "\n",
    "root = TreeNode(1) # Expected to print: 1\n",
    "print(root)"
   ]
  },
  {
   "cell_type": "markdown",
   "metadata": {},
   "source": [
    "### Insert a Node\n",
    "\n",
    "**Algorithm:**\n",
    "\n",
    "- Recursively traverse the tree.\n",
    "- Insert the node in the correct position following BST rules\n",
    "\n",
    "Our goal is th take a list like the following:\n",
    "\n",
    "`nums = [8, 3, 10, 1, 6, 4, 7, 14, 13]`\n",
    "\n",
    "And have the output insert each value so our tree now looks like this:\n",
    "\n",
    "```\n",
    "        8\n",
    "      /   \\\n",
    "     3    10\n",
    "    / \\      \\\n",
    "   1   6     14\n",
    "      / \\    /\n",
    "     4   7  13\n",
    "```\n",
    "\n",
    "**Notice:**\n",
    "\n",
    "Our root is 8. \n",
    "All values on the left are smaller, and all values on the right are larger."
   ]
  },
  {
   "cell_type": "code",
   "execution_count": 8,
   "metadata": {},
   "outputs": [
    {
     "name": "stdout",
     "output_type": "stream",
     "text": [
      "1\n",
      "3\n",
      "4\n",
      "6\n",
      "7\n",
      "8\n",
      "10\n",
      "13\n",
      "14\n"
     ]
    }
   ],
   "source": [
    "from typing import List, Optional\n",
    "\n",
    "# 1. Insert a Node\n",
    "\n",
    "class TreeNode:\n",
    "    def __init__(self, value):\n",
    "        self.value = value\n",
    "        self.left = None\n",
    "        self.right = None\n",
    "\n",
    "class Solution:\n",
    "    # In order printout\n",
    "    def printInOrder(self, node: TreeNode):\n",
    "        if node is None:\n",
    "            return\n",
    "        self.printInOrder(node.left)\n",
    "        print(node.value)\n",
    "        self.printInOrder(node.right)\n",
    "        \n",
    "    def insert(self, node: TreeNode, value: int) -> TreeNode:\n",
    "        if value is None:\n",
    "            return node\n",
    "\n",
    "        if node is None:\n",
    "            return TreeNode(value)\n",
    "\n",
    "\n",
    "        if value < node.value:\n",
    "            node.left = self.insert(node.left, value)\n",
    "        elif value > node.value:\n",
    "            node.right = self.insert(node.right, value)\n",
    "        \n",
    "        return node\n",
    "    \n",
    "nums = [8,3,10,1,6,4,7,14,13]\n",
    "sol = Solution()\n",
    "tree: Optional[TreeNode] = None # init tree as None\n",
    "\n",
    "for n in nums:\n",
    "    tree = sol.insert(tree, n) # update the tree reference with each inseration\n",
    "\n",
    "# Test\n",
    "# Should output [1,3,4,6,7,8,10,13,14]\n",
    "sol.printInOrder(tree)\n"
   ]
  },
  {
   "cell_type": "code",
   "execution_count": null,
   "metadata": {},
   "outputs": [],
   "source": [
    "# 2. Search for a Value"
   ]
  },
  {
   "cell_type": "code",
   "execution_count": null,
   "metadata": {},
   "outputs": [],
   "source": [
    "# 3. Delete a Node"
   ]
  },
  {
   "cell_type": "code",
   "execution_count": null,
   "metadata": {},
   "outputs": [],
   "source": [
    "# 4. Find the Min and Max"
   ]
  },
  {
   "cell_type": "code",
   "execution_count": null,
   "metadata": {},
   "outputs": [],
   "source": [
    "# 5. Validate a BST"
   ]
  }
 ],
 "metadata": {
  "kernelspec": {
   "display_name": "venv",
   "language": "python",
   "name": "python3"
  },
  "language_info": {
   "codemirror_mode": {
    "name": "ipython",
    "version": 3
   },
   "file_extension": ".py",
   "mimetype": "text/x-python",
   "name": "python",
   "nbconvert_exporter": "python",
   "pygments_lexer": "ipython3",
   "version": "3.10.12"
  }
 },
 "nbformat": 4,
 "nbformat_minor": 2
}
