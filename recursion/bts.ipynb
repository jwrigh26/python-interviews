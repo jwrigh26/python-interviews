{
 "cells": [
  {
   "cell_type": "markdown",
   "metadata": {},
   "source": [
    "# Binary Trees\n",
    "\n",
    "A **binary tree** is a type of tree where each node has **at most two children**. \n",
    "\n",
    "> Binary trees are commonly used for **traversal**\n",
    "\n",
    "## Example of a Binary Tree\n",
    "```\n",
    "    1\n",
    "   / \\\n",
    "  2   3\n",
    " / \\\n",
    "4   5\n",
    "```\n",
    "- `1` is the **root** (the topmost node).\n",
    "- `2` and `3` are its children: `root.left` and `root.right`.\n",
    "- `4` and `5` are leaf nodes.\n",
    "\n",
    "### Binary Tree Node Representation in Code\n",
    "```python\n",
    "class TreeNode:\n",
    "    def __init__(self, value):\n",
    "        self.value = value\n",
    "        self.left = None\n",
    "        self.right = None\n",
    "\n",
    "# Example usage:\n",
    "root = TreeNode(1)\n",
    "root.left = TreeNode(2)\n",
    "root.right = TreeNode(3)\n",
    "```\n",
    "\n",
    "## Concepts Explained\n",
    "\n",
    "### Key Concepts\n",
    "- **Root Node**: The topmost node in the tree. In the example, `1` is the root.  \n",
    "- **Leaf Nodes**: Nodes with no children (both `left` and `right` are `None`).  \n",
    "- **Parent Node**: The node directly above a given node. For example, `1` is the parent of `2` and `3`.  \n",
    "- **Subtree**: Any node and its descendants can be considered a subtree. For instance, node `2` forms a subtree with `4` and `5`.  \n",
    "\n",
    "### Trees are Graphs\n",
    "- Binary trees are a subset of **directed graphs**.  \n",
    "- Typically, you cannot traverse \"up\" the tree because nodes don't have a `parent` reference.  \n",
    "\n",
    "### Types of Binary Trees\n",
    "- **Complete Binary Trees**  \n",
    "- **Perfect Binary Trees**  \n",
    "- **Binary Trees as Arrays**  \n",
    "\n",
    "#### Complete Binary Tree\n",
    "A tree where all levels are fully filled except possibly the last level, which is filled from left to right.\n",
    "\n",
    "##### Example of a Complete Binary Tree:\n",
    "```\n",
    "          1\n",
    "        /   \\\n",
    "       2     3\n",
    "      / \\   / \n",
    "     4   5 10\n",
    "```\n",
    "- Node `3` has no right child, but the tree is still considered **complete**.\n",
    "\n",
    "#### Perfect Binary Tree\n",
    "A tree where all levels are fully filled, and all leaf nodes are at the same depth.\n",
    "\n",
    "##### Example of a Perfect Binary Tree:\n",
    "```\n",
    "    1\n",
    "   / \\\n",
    "  2   3\n",
    "```\n",
    "\n",
    "#### Binary Trees as Arrays\n",
    "Binary trees can also be represented as arrays. For example:\n",
    "```\n",
    "nums = [1, 2, 3, 4, 5, 10]\n",
    "```\n",
    "The array indices represent:\n",
    "- `i`: Current node.\n",
    "- `2*i + 1`: Left child.\n",
    "- `2*i + 2`: Right child.\n",
    "\n",
    "---"
   ]
  },
  {
   "cell_type": "markdown",
   "metadata": {},
   "source": [
    "# Problems\n",
    "- Recursive Pre Order\n",
    "- Recursive In Order\n",
    "- Recursive Post Order\n",
    "- Iterative Pre Order\n",
    "- Level Order (BFS)"
   ]
  },
  {
   "cell_type": "code",
   "execution_count": 1,
   "metadata": {},
   "outputs": [],
   "source": [
    "# Binary Trees\n",
    "class TreeNode:\n",
    "    def __init__(self, val, left=None, right=None):\n",
    "        self.val = val\n",
    "        self.left = left\n",
    "        self.right = right\n",
    "\n",
    "    def __str__(self):\n",
    "        return str(self.val)"
   ]
  },
  {
   "cell_type": "markdown",
   "metadata": {},
   "source": [
    "### TreeNode:\n",
    "```\n",
    "        1\n",
    "      /   \\\n",
    "     2     3\n",
    "    / \\   /\n",
    "   4   5 10\n",
    "```"
   ]
  },
  {
   "cell_type": "code",
   "execution_count": 2,
   "metadata": {},
   "outputs": [
    {
     "name": "stdout",
     "output_type": "stream",
     "text": [
      "1\n"
     ]
    }
   ],
   "source": [
    "A = TreeNode(1)\n",
    "B = TreeNode(2)\n",
    "C = TreeNode(3)\n",
    "D = TreeNode(4)\n",
    "E = TreeNode(5)\n",
    "F = TreeNode(10)\n",
    "A.left = B\n",
    "A.right = C\n",
    "B.left = D\n",
    "B.right = E\n",
    "C.left = F\n",
    "print(A)"
   ]
  },
  {
   "cell_type": "code",
   "execution_count": 7,
   "metadata": {},
   "outputs": [
    {
     "name": "stdout",
     "output_type": "stream",
     "text": [
      "1\n",
      "2\n",
      "4\n",
      "5\n",
      "3\n",
      "10\n"
     ]
    }
   ],
   "source": [
    "# Recursive Pre Order Traversal (DFS) Time: O(n), Space: O(n)\n",
    "def pre_order(node):\n",
    "        if not node:\n",
    "            return\n",
    "        \n",
    "        print(node)\n",
    "        pre_order(node.left)\n",
    "        pre_order(node.right)\n",
    "\n",
    "# Test\n",
    "# Expected Result: [1,2,4,5,3,10]\n",
    "pre_order(A)"
   ]
  },
  {
   "cell_type": "code",
   "execution_count": 8,
   "metadata": {},
   "outputs": [
    {
     "name": "stdout",
     "output_type": "stream",
     "text": [
      "4\n",
      "2\n",
      "5\n",
      "1\n",
      "10\n",
      "3\n"
     ]
    }
   ],
   "source": [
    "# Recursive In Order Traversal (DFS) Time: O(n), Space: O(n)\n",
    "def in_order(node):\n",
    "        if not node:\n",
    "            return\n",
    "        \n",
    "        in_order(node.left)\n",
    "        print(node)\n",
    "        in_order(node.right)\n",
    "\n",
    "# Test\n",
    "# Expected Result: [4, 2, 5, 1, 10, 3]\n",
    "in_order(A)"
   ]
  },
  {
   "cell_type": "code",
   "execution_count": 9,
   "metadata": {},
   "outputs": [
    {
     "name": "stdout",
     "output_type": "stream",
     "text": [
      "4\n",
      "5\n",
      "2\n",
      "10\n",
      "3\n",
      "1\n"
     ]
    }
   ],
   "source": [
    "# Recursive Post Order Traversal (DFS) Time: O(n), Space: O(n)\n",
    "def post_order(node):\n",
    "    if not node:\n",
    "        return\n",
    "    post_order(node.left)\n",
    "    post_order(node.right)\n",
    "    print(node)\n",
    "\n",
    "# Test\n",
    "# Expected Result: [4, 5, 2, 10, 3 1]\n",
    "post_order(A)"
   ]
  },
  {
   "cell_type": "code",
   "execution_count": 11,
   "metadata": {},
   "outputs": [
    {
     "name": "stdout",
     "output_type": "stream",
     "text": [
      "1\n",
      "2\n",
      "4\n",
      "5\n",
      "3\n",
      "10\n"
     ]
    }
   ],
   "source": [
    "# Iterative Pre Order Traversal (DFS) Time: O(n), Space: O(n)\n",
    "def pre_order_iterative(node):\n",
    "    stk = [node]\n",
    "\n",
    "    while stk:\n",
    "        node = stk.pop()\n",
    "        print(node)\n",
    "        if node.right: stk.append(node.right)\n",
    "        if node.left: stk.append(node.left)\n",
    "\n",
    "# Test\n",
    "# Expected Result: [1, 2, 4, 5, 3, 10]\n",
    "pre_order_iterative(A)"
   ]
  },
  {
   "cell_type": "code",
   "execution_count": 13,
   "metadata": {},
   "outputs": [
    {
     "name": "stdout",
     "output_type": "stream",
     "text": [
      "1\n",
      "2\n",
      "3\n",
      "4\n",
      "5\n",
      "10\n"
     ]
    }
   ],
   "source": [
    "# Level Order Traversal (BFS) Time: O(n), Space: O(n)\n",
    "from collections import deque\n",
    "\n",
    "def level_order(node):\n",
    "    q = deque()\n",
    "    q.append(node)\n",
    "\n",
    "    while q:\n",
    "        node = q.popleft()\n",
    "        print(node)\n",
    "        if node.left: q.append(node.left)\n",
    "        if node.right: q.append(node.right)\n",
    "\n",
    "# Test\n",
    "# Expected Result: [1,2,3,4,5,10]\n",
    "level_order(A)"
   ]
  },
  {
   "cell_type": "code",
   "execution_count": 17,
   "metadata": {},
   "outputs": [
    {
     "data": {
      "text/plain": [
       "False"
      ]
     },
     "execution_count": 17,
     "metadata": {},
     "output_type": "execute_result"
    }
   ],
   "source": [
    "# Check if Value Exists (DFS) Time: O(n), Space: O(n)\n",
    "def search(node, target):\n",
    "    if not node:\n",
    "        return False\n",
    "\n",
    "    if node.val == target:\n",
    "        return True\n",
    "\n",
    "    return search(node.left, target) or search(node.right, target)\n",
    "\n",
    "# Test\n",
    "# Expected Results\n",
    "# search(A, 1): True\n",
    "# search(A, 10): True\n",
    "# search(A, 11): False\n",
    "search(A, 1)"
   ]
  }
 ],
 "metadata": {
  "kernelspec": {
   "display_name": "venv",
   "language": "python",
   "name": "python3"
  },
  "language_info": {
   "codemirror_mode": {
    "name": "ipython",
    "version": 3
   },
   "file_extension": ".py",
   "mimetype": "text/x-python",
   "name": "python",
   "nbconvert_exporter": "python",
   "pygments_lexer": "ipython3",
   "version": "3.9.6"
  }
 },
 "nbformat": 4,
 "nbformat_minor": 2
}
