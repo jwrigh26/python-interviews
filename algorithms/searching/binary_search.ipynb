{
 "cells": [
  {
   "cell_type": "markdown",
   "metadata": {},
   "source": [
    "# Binary Search\n",
    "Problem: Given a sorted array, find the index of a target value.\n",
    "\n",
    "Example:\n",
    "```\n",
    "Input: nums = [1, 3, 5, 7, 9], target = 5\n",
    "Output: 2 (index of 5)\n",
    "```\n",
    "\n",
    "Tip: Use classic binary search logic."
   ]
  },
  {
   "cell_type": "code",
   "execution_count": 1,
   "metadata": {},
   "outputs": [
    {
     "name": "stdout",
     "output_type": "stream",
     "text": [
      "3\n"
     ]
    }
   ],
   "source": [
    "from typing import List\n",
    "\n",
    "# Binary Search\n",
    "class Solution:\n",
    "  def binarySearch(self, array: List[int], target: int) -> int:\n",
    "    left, right = 0, len(array) - 1\n",
    "    while left <= right:\n",
    "      mid = (left + right) // 2\n",
    "      if array[mid] == target:\n",
    "        return mid\n",
    "      elif array[mid] < target:\n",
    "        left = mid + 1\n",
    "      else:\n",
    "        right = mid - 1\n",
    "    return -1\n",
    "\n",
    "\n",
    "arr = [1, 2, 4, 6, 8, 9]\n",
    "target = 6\n",
    "solution = Solution()\n",
    "print(solution.binarySearch(arr, target))\n"
   ]
  }
 ],
 "metadata": {
  "kernelspec": {
   "display_name": "venv",
   "language": "python",
   "name": "python3"
  },
  "language_info": {
   "codemirror_mode": {
    "name": "ipython",
    "version": 3
   },
   "file_extension": ".py",
   "mimetype": "text/x-python",
   "name": "python",
   "nbconvert_exporter": "python",
   "pygments_lexer": "ipython3",
   "version": "3.9.6"
  }
 },
 "nbformat": 4,
 "nbformat_minor": 2
}
