{
 "cells": [
  {
   "cell_type": "markdown",
   "metadata": {},
   "source": [
    "# Binary Search\n",
    "Problem: Given a sorted array, find the index of a target value.\n",
    "\n",
    "Example:\n",
    "```\n",
    "Input: nums = [1, 3, 5, 7, 9], target = 5\n",
    "Output: 2 (index of 5)\n",
    "```\n",
    "\n",
    "Tip: Use classic binary search logic."
   ]
  },
  {
   "cell_type": "code",
   "execution_count": null,
   "metadata": {},
   "outputs": [],
   "source": [
    "from typing import List\n",
    "\n",
    "# Binary Search\n",
    "class Solution:\n",
    "  def binary_search(self, array: List[int], target: int) -> int:\n",
    "    left, right = 0, len(array) - 1\n",
    "    while left <= right:\n",
    "      mid = (left + right) // 2\n",
    "      if array[mid] == target:\n",
    "        return mid\n",
    "      elif array[mid] < target:\n",
    "        left = mid + 1\n",
    "      else:\n",
    "        right = mid - 1\n",
    "    return -1\n",
    "\n",
    "\n",
    "arr = [1, 2, 4, 6, 8, 9]\n",
    "target = 6\n",
    "solution = Solution()\n",
    "print(solution.binary_search(arr, target))\n"
   ]
  },
  {
   "cell_type": "markdown",
   "metadata": {},
   "source": [
    "# Problems that use Binary Search \n",
    "\n",
    "Here’s a suggested progression to get better:\n",
    "\n",
    "### Easy Problems:\n",
    "- Binary search basics: \"Binary Search\" (LeetCode Easy)\n",
    "    - Find a target in a sorted array.\n",
    "\n",
    "### Medium Problems:\n",
    "- \"Search in Rotated Sorted Array\" (this one)\n",
    "- \"Find Minimum in Rotated Sorted Array\"\n",
    "\n",
    "### Hard Problems:\n",
    "- \"Search in Rotated Sorted Array II\" (handles duplicates)\n",
    "- \"Split Array Largest Sum\" (binary search on results range)\n",
    "---"
   ]
  },
  {
   "cell_type": "markdown",
   "metadata": {},
   "source": [
    "\n",
    "\n",
    "\n",
    "\n",
    "# Problem: Search in a Rotated Sorted Array\n",
    "\n",
    "A rotated sorted array is a sorted array that has been \"rotated\" at some pivot. For example:\n",
    "- Original sorted array: `[1, 2, 3, 4, 5, 6, 7]`\n",
    "- Rotated sorted array: `[4, 5, 6, 7, 1, 2, 3]`\n",
    "\n",
    "The task is to search for a target value in a rotated sorted array. If the target exists, return its index. Otherwise, return `-1`.\n",
    "\n",
    "You must solve this in \\(O(log n)\\) time, which suggests using **binary search**.\n",
    "\n",
    "## Statment\n",
    "Write a function `search(nums: List[int], target: int) -> int` that takes:\n",
    "- `nums`: a list of integers representing the rotated sorted array.\n",
    "- `target`: the integer to search for.\n",
    "\n",
    "**Example 1:**\n",
    "```python\n",
    "Input: nums = [4,5,6,7,0,1,2], target = 0\n",
    "Output: 4\n",
    "```\n",
    "\n",
    "**Example 2:**\n",
    "```python\n",
    "Input: nums = [4,5,6,7,0,1,2], target = 3\n",
    "Output: -1\n",
    "```\n",
    "\n",
    "**Example 3:**\n",
    "```python\n",
    "Input: nums = [1], target = 0\n",
    "Output: -1\n",
    "```\n",
    "\n",
    "### Hint:\n",
    "\n",
    "1. **Key Insight**: The array is sorted but split into two sections due to the rotation. One section is always sorted, and the other might not be.\n",
    "2. During the binary search:\n",
    "   - Check which part (left or right) is sorted.\n",
    "   - Use the sorted part to decide whether the target is in that range or in the other half."
   ]
  },
  {
   "cell_type": "markdown",
   "metadata": {},
   "source": [
    "### Observing the Sorted Part\n",
    "In a rotated sorted array, one of the two halves (left or right) will always be sorted. To identify the sorted half:\n",
    "1. Compare the **start** and **mid** elements of the current range:\n",
    "   - If `nums[start] <= nums[mid]`, then the **left half is sorted**.\n",
    "   - Otherwise, the **right half is sorted**.\n",
    "\n",
    "#### Deciding Where the Target Could Be\n",
    "Once you know which part is sorted:\n",
    "1. If the target lies within the range of the sorted half:\n",
    "   - For the left half: `nums[start] <= target < nums[mid]`\n",
    "   - For the right half: `nums[mid] < target <= nums[end]`\n",
    "   - Then, narrow your search to that half.\n",
    "2. Otherwise, search the other half.\n",
    "\n",
    "#### Example Walkthrough\n",
    "For `nums = [4, 5, 6, 7, 0, 1, 2]`, target = 0:\n",
    "1. Initial range: `nums[0] = 4` to `nums[6] = 2`, mid = `nums[3] = 7`.\n",
    "   - Left half: `[4, 5, 6, 7]`\n",
    "   - Right half: `[0, 1, 2]`\n",
    "2. Compare `nums[0]` with `nums[3]`: since `nums[0] <= nums[3]`, the **left half is sorted**.\n",
    "   - Target (0) is **not in the range [4, 5, 6, 7]**, so search the right half.\n",
    "\n",
    "Keep applying this logic until you find the target or narrow it down to no match. Let me know if this clears it up!"
   ]
  },
  {
   "cell_type": "code",
   "execution_count": 42,
   "metadata": {},
   "outputs": [
    {
     "name": "stdout",
     "output_type": "stream",
     "text": [
      "3\n",
      "0\n",
      "0\n",
      "-1\n",
      "0\n"
     ]
    }
   ],
   "source": [
    "from typing import List\n",
    "\n",
    "def search_rotated_array(nums: List[int], tar: int) -> int:\n",
    "    left, right = 0, len(nums) - 1\n",
    "\n",
    "    while left <= right:\n",
    "        mid = left + (right - left) // 2\n",
    "        \n",
    "        if nums[mid] == tar:\n",
    "            return mid\n",
    "        \n",
    "        # Determine which side is sorted\n",
    "        if nums[left] <= nums[mid]:  # Left half is sorted\n",
    "            if nums[left] <= tar < nums[mid]:  # Target in the left half\n",
    "                right = mid - 1\n",
    "            else:  # Target in the right half\n",
    "                left = mid + 1\n",
    "        else:  # Right half is sorted\n",
    "            if nums[mid] < tar <= nums[right]:  # Target in the right half\n",
    "                left = mid + 1\n",
    "            else:  # Target in the left half\n",
    "                right = mid - 1\n",
    "\n",
    "    return -1  # Target not found\n",
    "\n",
    "# Test case 1\n",
    "numsList = [5, 6, 7, 0, 1, 2, 3, 4]\n",
    "tar = 0\n",
    "print(search_rotated_array(numsList, tar))  # Should print 3\n",
    "\n",
    "\n",
    "# Test case\n",
    "numsList = [6, 7, 8, 0, 1, 2, 3, 4, 5]\n",
    "tar = 6\n",
    "\n",
    "print(search_rotated_array(numsList, tar))  # Should print 0\n",
    "\n",
    "numsList = [0, 1, 2, 3, 4, 5, 6, 7, 8]\n",
    "tar = 0\n",
    "print(search_rotated_array(numsList, tar))  # Should print 0\n",
    "\n",
    "numsList = [1]\n",
    "tar = 0\n",
    "print(search_rotated_array(numsList, tar))  # Should print -1\n",
    "\n",
    "numsList = [1]\n",
    "tar = 1\n",
    "print(search_rotated_array(numsList, tar))  # Should print 0\n"
   ]
  },
  {
   "cell_type": "markdown",
   "metadata": {},
   "source": [
    "# Problem: Find Minimum in Rotated Sorted Array\n",
    "\n",
    "### Highlights:\n",
    "\n",
    "1. **Clear Logic:** The code maintains clarity with clean boundaries (`left`, `right`) and directly returns `nums[left]` without extra variables.\n",
    "2. **Edge Case Handling:** Single-element arrays and fully sorted arrays are naturally handled.\n",
    "3. **Optimal Complexity:** Time complexity \\(O(\\log n)\\), space complexity \\(O(1)\\).\n",
    "\n",
    "### Whiteboarding Tips\n",
    "\n",
    "- Emphasize the binary search steps and why reducing the range (`l = m + 1` or `r = m`) converges to the minimum.\n",
    "- Be ready to explain edge cases, especially single-element arrays and already sorted arrays.\n",
    "- Highlight the efficient \\(O(\\log n)\\) time complexity and the use of constant \\(O(1)\\) space."
   ]
  },
  {
   "cell_type": "code",
   "execution_count": 41,
   "metadata": {},
   "outputs": [
    {
     "name": "stdout",
     "output_type": "stream",
     "text": [
      "1\n",
      "0\n",
      "-1\n",
      "1\n"
     ]
    }
   ],
   "source": [
    "from typing import List\n",
    "\n",
    "class Solution:\n",
    "    def find_min(self, nums: List[int]) -> int:\n",
    "        left, right = 0, len(nums) - 1\n",
    "\n",
    "        while left < right:\n",
    "            # If the array is already sorted, return the leftmost element\n",
    "            if nums[left] < nums[right]:\n",
    "                return nums[left]\n",
    "\n",
    "            mid = (left + right) // 2\n",
    "\n",
    "            # If mid element is greater than right, the minimum is in the right half\n",
    "            if nums[mid] > nums[right]:\n",
    "                left = mid + 1\n",
    "            else:  # Otherwise, the minimum is in the left half (including mid)\n",
    "                right = mid\n",
    "\n",
    "        return nums[left]  # At the end, left == right, pointing to the minimum\n",
    "\n",
    "# Test cases\n",
    "solution = Solution()\n",
    "print(solution.find_min([3,4,5,1,2]))  # Should print 1\n",
    "print(solution.find_min([0]))          # Should print 0\n",
    "print(solution.find_min([2,3,4,-1,0,1]))  # Should print -1\n",
    "print(solution.find_min([1,2,3,4,5]))  # Should print 1\n"
   ]
  },
  {
   "cell_type": "markdown",
   "metadata": {},
   "source": [
    "# Diameter of a Binary Tree"
   ]
  },
  {
   "cell_type": "code",
   "execution_count": null,
   "metadata": {},
   "outputs": [],
   "source": [
    "# Definition for a binary tree node.\n",
    "from typing import Optional\n",
    "\n",
    "\n",
    "class TreeNode:\n",
    "    def __init__(self, val=0, left=None, right = None):\n",
    "        self.val = val\n",
    "        self.left = left\n",
    "        self.right = right\n",
    "\n",
    "class Solution:\n",
    "    def diameter_of_bt(self, root: Optional[TreeNode]) -> int:\n",
    "        self.res = 0\n",
    "\n",
    "        # Returns height\n",
    "        def dfs(cur):\n",
    "            if not cur:\n",
    "                return 0\n",
    "            \n",
    "            left = dfs(cur.left)\n",
    "            right = dfs(cur.right)\n",
    "\n",
    "            # nonlocal res // If you don't want to use self\n",
    "            self.res = max(self.res, left + right)\n",
    "            return 1 + max(left, right)\n",
    "\n",
    "        dfs(root)\n",
    "        return self.res"
   ]
  },
  {
   "cell_type": "markdown",
   "metadata": {},
   "source": [
    "### Key Concepts\n",
    "The diameter of a binary tree is the longest path between any two nodes. Important points:\n",
    "- This path doesn't need to pass through the root\n",
    "- The path length is measured in number of edges (not nodes)\n",
    "- The path can be thought of as going up and down through a common ancestor\n",
    "\n",
    "### Code Explanation\n"
   ]
  },
  {
   "cell_type": "code",
   "execution_count": null,
   "metadata": {},
   "outputs": [],
   "source": [
    "def diameter_of_bt(self, root: Optional[TreeNode]) -> int:\n",
    "    self.res = 0  # Stores the maximum diameter found so far\n",
    "    \n",
    "    def dfs(cur):\n",
    "        if not cur:\n",
    "            return 0  # Base case: empty node has height 0\n",
    "        \n",
    "        left = dfs(cur.left)   # Get height of left subtree\n",
    "        right = dfs(cur.right) # Get height of right subtree\n",
    "        \n",
    "        # Update diameter: sum of left and right depths\n",
    "        self.res = max(self.res, left + right)\n",
    "        \n",
    "        # Return height of current node\n",
    "        return 1 + max(left, right)"
   ]
  },
  {
   "cell_type": "markdown",
   "metadata": {},
   "source": [
    "\n",
    "\n",
    "### How it Works\n",
    "1. We use a nested DFS function that returns the height of each subtree\n",
    "2. At each node, we:\n",
    "   - Calculate heights of left and right subtrees\n",
    "   - Update diameter if current path (left + right) is longer\n",
    "   - Return height (1 + max of left/right) to parent\n",
    "\n",
    "### Time/Space Complexity\n",
    "- **Time Complexity**: O(n) where n is number of nodes\n",
    "  - We visit each node exactly once\n",
    "- **Space Complexity**: O(h) where h is height of tree\n",
    "  - Due to recursion stack\n",
    "  - Best case O(log n) for balanced tree\n",
    "  - Worst case O(n) for skewed tree\n",
    "\n",
    "### Example\n"
   ]
  },
  {
   "cell_type": "code",
   "execution_count": null,
   "metadata": {
    "vscode": {
     "languageId": ""
    }
   },
   "outputs": [],
   "source": [
    "     1\n",
    "    / \\\n",
    "   2   3\n",
    "  / \\\n",
    " 4   5"
   ]
  },
  {
   "cell_type": "markdown",
   "metadata": {},
   "source": [
    "- At node 2: left=1, right=1, diameter=2\n",
    "- At node 1: considers path 4→2→5, updates if longer\n",
    "\n",
    "### Gotcha\n",
    "The tricky part is understanding that \n",
    "\n",
    "self.res\n",
    "\n",
    " tracks the diameter (edges between nodes) while the return value of \n",
    "\n",
    "dfs\n",
    "\n",
    " tracks the height (nodes from current to leaf)."
   ]
  }
 ],
 "metadata": {
  "kernelspec": {
   "display_name": "venv",
   "language": "python",
   "name": "python3"
  },
  "language_info": {
   "codemirror_mode": {
    "name": "ipython",
    "version": 3
   },
   "file_extension": ".py",
   "mimetype": "text/x-python",
   "name": "python",
   "nbconvert_exporter": "python",
   "pygments_lexer": "ipython3",
   "version": "3.9.6"
  }
 },
 "nbformat": 4,
 "nbformat_minor": 2
}
