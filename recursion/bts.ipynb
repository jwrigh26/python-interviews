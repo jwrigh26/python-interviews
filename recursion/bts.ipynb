{
 "cells": [
  {
   "cell_type": "markdown",
   "metadata": {},
   "source": [
    "# Binary Trees\n",
    "\n",
    "A **binary tree** is a type of tree where each node has **at most two children**. \n",
    "\n",
    "> Binary trees are commonly used for **traversal**\n",
    "\n",
    "## Example of a Binary Tree\n",
    "```\n",
    "    1\n",
    "   / \\\n",
    "  2   3\n",
    " / \\\n",
    "4   5\n",
    "```\n",
    "- `1` is the **root** (the topmost node).\n",
    "- `2` and `3` are its children: `root.left` and `root.right`.\n",
    "- `4` and `5` are leaf nodes.\n",
    "\n",
    "### Binary Tree Node Representation in Code\n",
    "```python\n",
    "class TreeNode:\n",
    "    def __init__(self, value):\n",
    "        self.value = value\n",
    "        self.left = None\n",
    "        self.right = None\n",
    "\n",
    "# Example usage:\n",
    "root = TreeNode(1)\n",
    "root.left = TreeNode(2)\n",
    "root.right = TreeNode(3)\n",
    "```\n",
    "\n",
    "## Concepts Explained\n",
    "\n",
    "### Key Concepts\n",
    "- **Root Node**: The topmost node in the tree. In the example, `1` is the root.  \n",
    "- **Leaf Nodes**: Nodes with no children (both `left` and `right` are `None`).  \n",
    "- **Parent Node**: The node directly above a given node. For example, `1` is the parent of `2` and `3`.  \n",
    "- **Subtree**: Any node and its descendants can be considered a subtree. For instance, node `2` forms a subtree with `4` and `5`.  \n",
    "\n",
    "### Trees are Graphs\n",
    "- Binary trees are a subset of **directed graphs**.  \n",
    "- Typically, you cannot traverse \"up\" the tree because nodes don't have a `parent` reference.  \n",
    "\n",
    "### Types of Binary Trees\n",
    "- **Complete Binary Trees**  \n",
    "- **Perfect Binary Trees**  \n",
    "- **Binary Trees as Arrays**  \n",
    "\n",
    "#### Complete Binary Tree\n",
    "A tree where all levels are fully filled except possibly the last level, which is filled from left to right.\n",
    "\n",
    "##### Example of a Complete Binary Tree:\n",
    "```\n",
    "          1\n",
    "        /   \\\n",
    "       2     3\n",
    "      / \\   / \n",
    "     4   5 10\n",
    "```\n",
    "- Node `3` has no right child, but the tree is still considered **complete**.\n",
    "\n",
    "#### Perfect Binary Tree\n",
    "A tree where all levels are fully filled, and all leaf nodes are at the same depth.\n",
    "\n",
    "##### Example of a Perfect Binary Tree:\n",
    "```\n",
    "    1\n",
    "   / \\\n",
    "  2   3\n",
    "```\n",
    "\n",
    "#### Binary Trees as Arrays\n",
    "Binary trees can also be represented as arrays. For example:\n",
    "```\n",
    "nums = [1, 2, 3, 4, 5, 10]\n",
    "```\n",
    "The array indices represent:\n",
    "- `i`: Current node.\n",
    "- `2*i + 1`: Left child.\n",
    "- `2*i + 2`: Right child.\n"
   ]
  },
  {
   "cell_type": "markdown",
   "metadata": {},
   "source": [
    "## TreeNode:\n",
    "```\n",
    "        1\n",
    "      /   \\\n",
    "     2     3\n",
    "    / \\   /\n",
    "   4   5 10\n",
    "```"
   ]
  },
  {
   "cell_type": "code",
   "execution_count": 8,
   "metadata": {},
   "outputs": [],
   "source": [
    "# TreeNode\n",
    "class TreeNode:\n",
    "    def __init__(self, val, left=None, right=None):\n",
    "        self.val = val\n",
    "        self.left = left\n",
    "        self.right = right\n",
    "\n",
    "    def __str__(self):\n",
    "        return str(self.val)"
   ]
  },
  {
   "cell_type": "markdown",
   "metadata": {},
   "source": [
    "\n",
    "\n",
    "### Key Insights into the Algorithm\n",
    "1. **Backtracking**:\n",
    "   - Think of this as trying all possibilities: for each number, decide whether to include it in the current subset or not.\n",
    "   - This creates a \"decision tree\" where each branch represents a choice.\n",
    "\n",
    "2. **Recursive Function**:\n",
    "   - Each recursive call focuses on one number in the list (`nums[i]`) and makes two choices:\n",
    "     1. Skip the number (don't include it in the subset).\n",
    "     2. Include the number in the subset.\n",
    "\n",
    "3. **Snapshot of `sol`**:\n",
    "   - When we reach the end of the list (`i == n`), we take a \"snapshot\" of the current subset (`sol[:]`) and add it to the result.\n",
    "\n",
    "4. **`pop()`**:\n",
    "   - This is the \"undo\" step. After exploring the path where a number is included, we remove it (backtrack) to try the path where it's excluded.\n",
    "\n",
    "---\n",
    "\n",
    "### Step-by-Step Execution\n",
    "Let’s walk through the example with `nums = [1, 2, 3]`.\n",
    "\n",
    "#### Initial Setup\n",
    "- `res = []` to store all subsets.\n",
    "- `sol = []` to build the current subset during recursion.\n",
    "\n",
    "#### Recursive Backtracking Steps\n",
    "1. Start with `backtrack(0)`. Here, `i = 0`, and the number we're considering is `1`.\n",
    "\n",
    "\n",
    "**Step 1: Don't pick `1`**  \n",
    "- Call `backtrack(1)` with `i = 1`, `sol = []`.\n",
    "\n",
    "\n",
    "**Step 2: Don't pick `2`**  \n",
    "- Call `backtrack(2)` with `i = 2`, `sol = []`.\n",
    "\n",
    "\n",
    "**Step 3: Don't pick `3`**  \n",
    "- Call `backtrack(3)` with `i = 3`, `sol = []`.\n",
    "- Since `i == n`, take a snapshot: `res = [[]]`.\n",
    "- return.\n",
    "\n",
    "**Step 4: Backtrack to pick `3`**  \n",
    "- Include `3` in `sol`: `sol = [3]`.\n",
    "   - This is misleading!\n",
    "   - `3` here is arr[2]'s value.\n",
    "   - We returned prev when i === 3. When we returned we popped the stack and i === 2 again.\n",
    "   - We therefore append arr[2]'s value to sol.\n",
    "- Call `backtrack(3)` with `i = 3`.\n",
    "   - At the top 3 is equal to n (length of array) so we do the follwing again:\n",
    "      - Snapshot: `res = [[], [3]]`.\n",
    "      - Undo by popping: `sol = []`.\n",
    "      - We are now popped from the stack again.\n",
    "         - i === 1 and arr[1] === 2\n",
    "\n",
    "**Step 5: Backtrack to pick `2`**  \n",
    "- Include `2` in `sol`: `sol = [2]`.\n",
    "- Call `backtrack(2)` with `i=2`\n",
    "   - At the top 2 is not equal to 3\n",
    "   - We backtrack where? \n",
    "\n",
    "---\n",
    "\n",
    "**Step 6: Repeat for `3`**  \n",
    "- Don't pick `3`: Snapshot `res = [[], [3], [2]]`.\n",
    "- Pick `3`: Snapshot `res = [[], [3], [2], [2, 3]]`.\n",
    "- Undo by popping: `sol = [2]`.\n",
    "- Undo by popping: `sol = []`.\n",
    "\n",
    "---\n",
    "\n",
    "**Step 7: Backtrack to pick `1`**  \n",
    "- Include `1` in `sol`: `sol = [1]`.\n",
    "- Call `backtrack(1)`.\n",
    "\n",
    "---\n",
    "\n",
    "**Step 8: Repeat for `2` and `3`**  \n",
    "- Follow the same process for `2` and `3`, generating all combinations that include `1`.\n",
    "- Final result: `res = [[], [3], [2], [2, 3], [1], [1, 3], [1, 2], [1, 2, 3]]`.\n",
    "\n",
    "---\n",
    "\n",
    "### Visualizing the Tree\n",
    "Think of this process like exploring a tree of decisions:\n",
    "\n",
    "```\n",
    "                          []\n",
    "               /                    \\\n",
    "           [1]                      []\n",
    "        /      \\                /       \\\n",
    "   [1, 2]    [1]         [2]       []\n",
    "  /   \\       /   \\      /   \\       /   \\\n",
    "[1,2,3] [1,2] [1,3] [1] [2,3] [2]  [3]   []\n",
    "```\n",
    "\n",
    "Each path corresponds to a subset.\n",
    "\n",
    "---\n",
    "\n",
    "### Why `pop()` is Important\n",
    "When you include a number (e.g., `sol.append(nums[i])`), you're exploring a path where that number is part of the subset. Once you've finished exploring that path, you \"undo\" the choice by removing the number (`sol.pop()`) so you can try other possibilities.\n",
    "\n",
    "---\n",
    "\n",
    "### Key Takeaways\n",
    "1. Backtracking is about making a choice, exploring, and then undoing the choice.\n",
    "2. `pop()` ensures the same `sol` list can be reused for multiple paths.\n",
    "3. Recursive functions can feel like magic, but they follow the same steps every time."
   ]
  },
  {
   "cell_type": "markdown",
   "metadata": {},
   "source": [
    "# Problems\n",
    "- [Pre-Order](#pre-order)\n",
    "    - Recursive \n",
    "    - Iterative \n",
    "- [InOrder](#in-order)\n",
    "    - Recursive \n",
    "    - Iterative \n",
    "- [Post-Order](#in-order)\n",
    "    - Recursive \n",
    "    - Iterative \n",
    "- [Level Order (BFS)](#level-order-bfs)\n",
    "- [Search](#search)"
   ]
  },
  {
   "cell_type": "code",
   "execution_count": 9,
   "metadata": {},
   "outputs": [
    {
     "name": "stdout",
     "output_type": "stream",
     "text": [
      "1\n"
     ]
    }
   ],
   "source": [
    "A = TreeNode(1)\n",
    "B = TreeNode(2)\n",
    "C = TreeNode(3)\n",
    "D = TreeNode(4)\n",
    "E = TreeNode(5)\n",
    "F = TreeNode(10)\n",
    "A.left = B\n",
    "A.right = C\n",
    "B.left = D\n",
    "B.right = E\n",
    "C.left = F\n",
    "print(A)\n",
    "\n",
    "\n",
    "## TreeNode:\n",
    "#        1\n",
    "#     /   \\\n",
    "#     2     3\n",
    "#    / \\   /\n",
    "#   4   5 10"
   ]
  },
  {
   "cell_type": "markdown",
   "metadata": {},
   "source": [
    "# Pre-Order"
   ]
  },
  {
   "cell_type": "code",
   "execution_count": 10,
   "metadata": {},
   "outputs": [
    {
     "name": "stdout",
     "output_type": "stream",
     "text": [
      "1\n",
      "2\n",
      "4\n",
      "5\n",
      "3\n",
      "10\n"
     ]
    }
   ],
   "source": [
    "# Recursive Pre Order Traversal (DFS) Time: O(n), Space: O(n)\n",
    "# Node -> Left -> Right\n",
    "\n",
    "def pre_order(node):\n",
    "        if not node:\n",
    "            return\n",
    "        \n",
    "        print(node)\n",
    "        pre_order(node.left)\n",
    "        pre_order(node.right)\n",
    "\n",
    "# Test\n",
    "# Expected Result: [1,2,4,5,3,10]\n",
    "pre_order(A)"
   ]
  },
  {
   "cell_type": "code",
   "execution_count": 11,
   "metadata": {},
   "outputs": [
    {
     "name": "stdout",
     "output_type": "stream",
     "text": [
      "1\n",
      "2\n",
      "4\n",
      "5\n",
      "3\n",
      "10\n"
     ]
    }
   ],
   "source": [
    "# Iterative Pre Order Traversal (DFS) Time: O(n), Space: O(n)\n",
    "# Node -> Left -> Right\n",
    "\n",
    "def pre_order_iterative(node):\n",
    "    stk = [node]\n",
    "\n",
    "    while stk:\n",
    "        node = stk.pop()\n",
    "        print(node)\n",
    "        if node.right: stk.append(node.right)\n",
    "        if node.left: stk.append(node.left)\n",
    "\n",
    "# Test\n",
    "# Expected Result: [1, 2, 4, 5, 3, 10]\n",
    "pre_order_iterative(A)"
   ]
  },
  {
   "cell_type": "markdown",
   "metadata": {},
   "source": [
    "# In-Order"
   ]
  },
  {
   "cell_type": "code",
   "execution_count": 12,
   "metadata": {},
   "outputs": [
    {
     "name": "stdout",
     "output_type": "stream",
     "text": [
      "4\n",
      "2\n",
      "5\n",
      "1\n",
      "10\n",
      "3\n"
     ]
    }
   ],
   "source": [
    "# Recursive In Order Traversal (DFS) Time: O(n), Space: O(n)\n",
    "# Left -> Node -> Right\n",
    "\n",
    "def in_order(node):\n",
    "        if not node:\n",
    "            return\n",
    "        \n",
    "        in_order(node.left)\n",
    "        print(node)\n",
    "        in_order(node.right)\n",
    "\n",
    "# Test\n",
    "# Expected Result: [4, 2, 5, 1, 10, 3]\n",
    "in_order(A)"
   ]
  },
  {
   "cell_type": "code",
   "execution_count": 18,
   "metadata": {},
   "outputs": [
    {
     "data": {
      "text/plain": [
       "[4, 2, 5, 1, 10, 3]"
      ]
     },
     "execution_count": 18,
     "metadata": {},
     "output_type": "execute_result"
    }
   ],
   "source": [
    "# Iterative In Order Traversal (DFS) Time: O(n), Space: O(n)\n",
    "# Left -> Node -> Right\n",
    "\n",
    "def in_order_iterative(root):\n",
    "    current = root\n",
    "    stack = []\n",
    "    result = []\n",
    "\n",
    "    while stack or current:\n",
    "        while current:\n",
    "            stack.append(current)\n",
    "            current = current.left\n",
    "\n",
    "        current = stack.pop()\n",
    "        result.append(current.val)\n",
    "        current = current.right\n",
    "\n",
    "    return result\n",
    "\n",
    "# Test\n",
    "# Expected Result: [4, 2, 5, 1, 10, 3]\n",
    "in_order_iterative(A)"
   ]
  },
  {
   "cell_type": "markdown",
   "metadata": {},
   "source": [
    "# Post-Order"
   ]
  },
  {
   "cell_type": "code",
   "execution_count": 14,
   "metadata": {},
   "outputs": [
    {
     "name": "stdout",
     "output_type": "stream",
     "text": [
      "4\n",
      "5\n",
      "2\n",
      "10\n",
      "3\n",
      "1\n"
     ]
    }
   ],
   "source": [
    "# Recursive Post Order Traversal (DFS) Time: O(n), Space: O(n)\n",
    "# Left -> Right -> Node\n",
    "\n",
    "def post_order(node):\n",
    "    if not node:\n",
    "        return\n",
    "    post_order(node.left)\n",
    "    post_order(node.right)\n",
    "    print(node)\n",
    "\n",
    "# Test\n",
    "# Expected Result: [4, 5, 2, 10, 3 1]\n",
    "post_order(A)"
   ]
  },
  {
   "cell_type": "code",
   "execution_count": 17,
   "metadata": {},
   "outputs": [
    {
     "data": {
      "text/plain": [
       "[4, 5, 2, 10, 3, 1]"
      ]
     },
     "execution_count": 17,
     "metadata": {},
     "output_type": "execute_result"
    }
   ],
   "source": [
    "# Iterative Post Order Traversal (DFS) Time: O(n), Space: O(n)\n",
    "# Left -> Right -> Node\n",
    "\n",
    "def post_order_iterative(root):\n",
    "    if not root:\n",
    "        return []\n",
    "    \n",
    "    stack1 = [root]\n",
    "    stack2 = []\n",
    "    result = []\n",
    "\n",
    "    while stack1:\n",
    "        node = stack1.pop()\n",
    "        stack2.append(node)\n",
    "\n",
    "        if node.left:\n",
    "            stack1.append(node.left)\n",
    "        if node.right:\n",
    "            stack1.append(node.right)\n",
    "\n",
    "    \n",
    "    while stack2:\n",
    "        result.append(stack2.pop().val)\n",
    "\n",
    "    return result\n",
    "\n",
    "# Test\n",
    "# Expected Result: [4, 5, 2, 10, 3, 1]\n",
    "post_order_iterative(A)"
   ]
  },
  {
   "cell_type": "markdown",
   "metadata": {},
   "source": [
    "# Level Order (BFS)"
   ]
  },
  {
   "cell_type": "code",
   "execution_count": 15,
   "metadata": {},
   "outputs": [
    {
     "name": "stdout",
     "output_type": "stream",
     "text": [
      "1\n",
      "2\n",
      "3\n",
      "4\n",
      "5\n",
      "10\n"
     ]
    }
   ],
   "source": [
    "# Level Order Traversal (BFS) Time: O(n), Space: O(n)\n",
    "from collections import deque\n",
    "\n",
    "def level_order(node):\n",
    "    q = deque()\n",
    "    q.append(node)\n",
    "\n",
    "    while q:\n",
    "        node = q.popleft()\n",
    "        print(node)\n",
    "        if node.left: q.append(node.left)\n",
    "        if node.right: q.append(node.right)\n",
    "\n",
    "# Test\n",
    "# Expected Result: [1,2,3,4,5,10]\n",
    "level_order(A)"
   ]
  },
  {
   "cell_type": "markdown",
   "metadata": {},
   "source": [
    "# Search"
   ]
  },
  {
   "cell_type": "code",
   "execution_count": 16,
   "metadata": {},
   "outputs": [
    {
     "data": {
      "text/plain": [
       "True"
      ]
     },
     "execution_count": 16,
     "metadata": {},
     "output_type": "execute_result"
    }
   ],
   "source": [
    "# Check if Value Exists (DFS) Time: O(n), Space: O(n)\n",
    "def search(node, target):\n",
    "    if not node:\n",
    "        return False\n",
    "\n",
    "    if node.val == target:\n",
    "        return True\n",
    "\n",
    "    return search(node.left, target) or search(node.right, target)\n",
    "\n",
    "# Test\n",
    "# Expected Results\n",
    "# search(A, 1): True\n",
    "# search(A, 10): True\n",
    "# search(A, 11): False\n",
    "search(A, 1)"
   ]
  }
 ],
 "metadata": {
  "kernelspec": {
   "display_name": "venv",
   "language": "python",
   "name": "python3"
  },
  "language_info": {
   "codemirror_mode": {
    "name": "ipython",
    "version": 3
   },
   "file_extension": ".py",
   "mimetype": "text/x-python",
   "name": "python",
   "nbconvert_exporter": "python",
   "pygments_lexer": "ipython3",
   "version": "3.10.12"
  }
 },
 "nbformat": 4,
 "nbformat_minor": 2
}
