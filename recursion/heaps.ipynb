{
 "cells": [
  {
   "cell_type": "markdown",
   "metadata": {},
   "source": [
    "# Heaps\n",
    "\n",
    "**Heap: A Special Tree with Rules!**🔺\n",
    "\n",
    "A **heap** is also a binary tree, but it follows **different rules**:\n",
    "- It's usually represented as a **complete binary tree** (all levels are filled left-to-right, except possibly the last).\n",
    "  \n",
    "#### Two Types of Heaps:\n",
    "- **Max-Heap**: The parent node is **always greater** than its children. (The biggest number sits at the top.)\n",
    "- **Min-Heap**: The parent node is **always smaller** than its children. (The smallest number sits at the top.)\n",
    "\n",
    "**Example (Max-Heap):**\n",
    "```\n",
    "        50\n",
    "      /    \\\n",
    "    30      20\n",
    "   /  \\    /  \\\n",
    "  15  10  8    5\n",
    "```\n",
    "\n",
    "Here:\n",
    "- 50 is the biggest and sits at the root.\n",
    "- Every parent is bigger than its children.\n",
    "\n",
    "#### **Key Uses of Heaps:**\n",
    "- **Priority Queues**: When you need to always get the \"most important\" (or smallest/largest) item first.\n",
    "- **Heap Sort**: A sorting algorithm based on heaps.\n",
    "\n",
    "\n",
    "### 5. **Why Are Heaps Cool?**\n",
    "- They are fast for **inserting** and **removing** elements.\n",
    "- They're used in algorithms like **Dijkstra's shortest path** and **Prim’s MST**.\n",
    "\n",
    "\n",
    "### 6. **Summary**\n",
    "- Think of a heap as a tree that balances priorities:\n",
    "  - **Max-Heap**: The \"boss\" sits at the top.\n",
    "  - **Min-Heap**: The \"weakest link\" sits at the top.\n",
    "\n",
    "\n",
    "\n",
    "  <br></br>\n",
    "\n",
    "  ---\n"
   ]
  }
 ],
 "metadata": {
  "language_info": {
   "name": "python"
  }
 },
 "nbformat": 4,
 "nbformat_minor": 2
}
