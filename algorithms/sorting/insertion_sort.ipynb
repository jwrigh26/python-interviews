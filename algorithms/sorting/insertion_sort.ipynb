{
 "cells": [
  {
   "cell_type": "markdown",
   "metadata": {},
   "source": [
    "# Iterative Insertion Sort\n",
    "\n",
    "# CORMEN'S INSERTION SORT\n",
    "\n",
    "1. For `i = 2` to `n`:\n",
    "   - Set `key` to `A[i]`, and set `j` to `i-1`\n",
    "   - While `j > 0` and `A[j] > key`, do the following:\n",
    "     1. Set `A[j+1]` to `A[j]`\n",
    "     2. Decrement `j` (i.e., set `j` to `j-1`)\n",
    "   - Set `A[j+1]` to `key`\n",
    "\n",
    "## JS Version\n",
    "```javascript\n",
    "function insertionSort(arr) {\n",
    "  // Start from the second element (index 1) since the first element is trivially sorted\n",
    "  for (let i = 1; i < arr.length; i++) {\n",
    "    // Set key to the current element\n",
    "    const key = arr[i];\n",
    "    let j = i - 1;\n",
    "\n",
    "    // Move elements of arr[0..i-1] that are greater than key one position ahead\n",
    "    while (j >= 0 && arr[j] > key) {\n",
    "      arr[j + 1] = arr[j];\n",
    "      j--;\n",
    "    }\n",
    "\n",
    "    // Place the key in its correct position\n",
    "    arr[j + 1] = key;\n",
    "  }\n",
    "\n",
    "  return arr; // Return the sorted array\n",
    "}\n",
    "\n",
    "// Example usage\n",
    "const input = [5, 3, 8, 4, 2];\n",
    "console.log(insertionSort(input)); // Output: [2, 3, 4, 5, 8]\n",
    "```\n",
    "\n",
    "## Key Points to Explain in an Interview\n",
    "\n",
    "### Outer Loop:\n",
    "- Starts from `i = 1` because the subarray `[0...0]` (first element) is already sorted.\n",
    "\n",
    "### Key Variable:\n",
    "- Temporarily stores the value of the element being inserted into the sorted portion.\n",
    "\n",
    "### Inner While Loop:\n",
    "- Shifts elements greater than `key` one position to the right until the correct position for `key` is found.\n",
    "\n",
    "### Final Assignment:\n",
    "- Places `key` in its correct position after the while loop ends.\n",
    "\n",
    "> **Fun Fact**: insertion sort performs well on nearly sorted arrays and can be modified to be more efficient with binary search or other enhancements."
   ]
  },
  {
   "cell_type": "code",
   "execution_count": 13,
   "metadata": {},
   "outputs": [
    {
     "name": "stdout",
     "output_type": "stream",
     "text": [
      "[1, 2, 3]\n",
      "[-10, -1, 0, 2, 4, 8]\n",
      "[-1, 0, 1]\n"
     ]
    }
   ],
   "source": [
    "from typing import List\n",
    "\n",
    "def sort(arr: List[int]) -> int:\n",
    "    # inclusive start at index 1\n",
    "    for i in range(1, len(arr)):\n",
    "        key = arr[i]\n",
    "        j = i - 1\n",
    "        while j >= 0 and arr[j] > key:\n",
    "            arr[j + 1] = arr[j]\n",
    "            j -= 1\n",
    "        arr[j + 1] = key\n",
    "    return arr\n",
    "    \n",
    "\n",
    "# Test 1\n",
    "numsList = [3, 2, 1]\n",
    "print(sort(numsList))\n",
    "\n",
    "# Test 2\n",
    "numsList = [0, -1, 2, 4, 8, -10]\n",
    "print(sort(numsList)) # -10, -1, 0, 2, 4, 8\n",
    "\n",
    "# Test 3\n",
    "numsList = [-1, 0, 1]\n",
    "print(sort(numsList)) # -1, 0, 1"
   ]
  }
 ],
 "metadata": {
  "kernelspec": {
   "display_name": "venv",
   "language": "python",
   "name": "python3"
  },
  "language_info": {
   "codemirror_mode": {
    "name": "ipython",
    "version": 3
   },
   "file_extension": ".py",
   "mimetype": "text/x-python",
   "name": "python",
   "nbconvert_exporter": "python",
   "pygments_lexer": "ipython3",
   "version": "3.9.6"
  }
 },
 "nbformat": 4,
 "nbformat_minor": 2
}
